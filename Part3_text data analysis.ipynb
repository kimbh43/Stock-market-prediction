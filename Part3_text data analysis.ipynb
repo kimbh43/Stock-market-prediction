{
 "cells": [
  {
   "cell_type": "markdown",
   "metadata": {},
   "source": [
    "#### 2.2. Fundamental Analysis (Text mining):"
   ]
  },
  {
   "cell_type": "markdown",
   "metadata": {},
   "source": [
    "#### 2.2-1. Explanatory Data Analysis"
   ]
  },
  {
   "cell_type": "code",
   "execution_count": 46,
   "metadata": {},
   "outputs": [],
   "source": [
    "df_fund = df = pd.read_csv('Fundamental Analysis.txt',sep='\\t')\n",
    "df_fund.drop(['Unnamed: 0','CONTENT','DATE','TITLE'],axis=1,inplace = True)"
   ]
  },
  {
   "cell_type": "code",
   "execution_count": 47,
   "metadata": {},
   "outputs": [],
   "source": [
    "# create new feature of word count and avg length of word for explanatory variable analysis\n",
    "df_fund['word_count'] = df_fund['ALL_CONTENT'].apply(lambda x: len(str(x).split(\" \")))\n",
    "def avg_word(sentence):\n",
    "    words = sentence.split()\n",
    "    return (sum(len(word) for word in words)/len(words))\n",
    "\n",
    "df_fund['avg_word'] = df_fund['ALL_CONTENT'].apply(lambda x: avg_word(x))"
   ]
  },
  {
   "cell_type": "code",
   "execution_count": 48,
   "metadata": {},
   "outputs": [
    {
     "data": {
      "text/plain": [
       "(7767, 14)"
      ]
     },
     "execution_count": 48,
     "metadata": {},
     "output_type": "execute_result"
    }
   ],
   "source": [
    "df_fund.shape"
   ]
  },
  {
   "cell_type": "code",
   "execution_count": 49,
   "metadata": {},
   "outputs": [
    {
     "data": {
      "text/plain": [
       "5.202130023837429"
      ]
     },
     "execution_count": 49,
     "metadata": {},
     "output_type": "execute_result"
    }
   ],
   "source": [
    "sum(df_fund['avg_word'])/len(df_fund['avg_word'])"
   ]
  },
  {
   "cell_type": "code",
   "execution_count": 50,
   "metadata": {},
   "outputs": [
    {
     "data": {
      "text/html": [
       "<div>\n",
       "<style scoped>\n",
       "    .dataframe tbody tr th:only-of-type {\n",
       "        vertical-align: middle;\n",
       "    }\n",
       "\n",
       "    .dataframe tbody tr th {\n",
       "        vertical-align: top;\n",
       "    }\n",
       "\n",
       "    .dataframe thead th {\n",
       "        text-align: right;\n",
       "    }\n",
       "</style>\n",
       "<table border=\"1\" class=\"dataframe\">\n",
       "  <thead>\n",
       "    <tr style=\"text-align: right;\">\n",
       "      <th></th>\n",
       "      <th>Date</th>\n",
       "      <th>ALL_CONTENT</th>\n",
       "      <th>CATEGORIES</th>\n",
       "      <th>Direction</th>\n",
       "      <th>Px change %</th>\n",
       "      <th>word_count</th>\n",
       "      <th>avg_word</th>\n",
       "    </tr>\n",
       "  </thead>\n",
       "  <tbody>\n",
       "    <tr>\n",
       "      <th>0</th>\n",
       "      <td>03/04/2019</td>\n",
       "      <td>Apple AirPods Review: Perfect Earbuds, but The...</td>\n",
       "      <td>Personal Tech</td>\n",
       "      <td>1</td>\n",
       "      <td>0.006855</td>\n",
       "      <td>28</td>\n",
       "      <td>5.892857</td>\n",
       "    </tr>\n",
       "    <tr>\n",
       "      <th>1</th>\n",
       "      <td>26/03/2019</td>\n",
       "      <td>Apple Unveils Video Service With Celebrity Par...</td>\n",
       "      <td>Technology</td>\n",
       "      <td>0</td>\n",
       "      <td>-0.010332</td>\n",
       "      <td>28</td>\n",
       "      <td>5.607143</td>\n",
       "    </tr>\n",
       "    <tr>\n",
       "      <th>2</th>\n",
       "      <td>26/03/2019</td>\n",
       "      <td>Samsung Predicts Disappointing Results as Chip...</td>\n",
       "      <td>Business</td>\n",
       "      <td>0</td>\n",
       "      <td>-0.010332</td>\n",
       "      <td>24</td>\n",
       "      <td>5.875000</td>\n",
       "    </tr>\n",
       "    <tr>\n",
       "      <th>3</th>\n",
       "      <td>17/04/2019</td>\n",
       "      <td>Apple and Qualcomm Settle All Disputes Worldwi...</td>\n",
       "      <td>Technology</td>\n",
       "      <td>1</td>\n",
       "      <td>0.019473</td>\n",
       "      <td>21</td>\n",
       "      <td>5.666667</td>\n",
       "    </tr>\n",
       "    <tr>\n",
       "      <th>4</th>\n",
       "      <td>10/04/2019</td>\n",
       "      <td>Organizing Your Unwieldy Photo Collection Is E...</td>\n",
       "      <td>Personal Tech</td>\n",
       "      <td>1</td>\n",
       "      <td>0.005614</td>\n",
       "      <td>20</td>\n",
       "      <td>5.000000</td>\n",
       "    </tr>\n",
       "  </tbody>\n",
       "</table>\n",
       "</div>"
      ],
      "text/plain": [
       "         Date                                        ALL_CONTENT  \\\n",
       "0  03/04/2019  Apple AirPods Review: Perfect Earbuds, but The...   \n",
       "1  26/03/2019  Apple Unveils Video Service With Celebrity Par...   \n",
       "2  26/03/2019  Samsung Predicts Disappointing Results as Chip...   \n",
       "3  17/04/2019  Apple and Qualcomm Settle All Disputes Worldwi...   \n",
       "4  10/04/2019  Organizing Your Unwieldy Photo Collection Is E...   \n",
       "\n",
       "      CATEGORIES  Direction  Px change %  word_count  avg_word  \n",
       "0  Personal Tech          1     0.006855          28  5.892857  \n",
       "1     Technology          0    -0.010332          28  5.607143  \n",
       "2       Business          0    -0.010332          24  5.875000  \n",
       "3     Technology          1     0.019473          21  5.666667  \n",
       "4  Personal Tech          1     0.005614          20  5.000000  "
      ]
     },
     "execution_count": 50,
     "metadata": {},
     "output_type": "execute_result"
    }
   ],
   "source": [
    "df_fund = df_fund[['Date','ALL_CONTENT','CATEGORIES','Direction','Px change %','word_count','avg_word']]\n",
    "df_fund.head()"
   ]
  },
  {
   "cell_type": "markdown",
   "metadata": {},
   "source": [
    "Number of news articles by categories"
   ]
  },
  {
   "cell_type": "code",
   "execution_count": 51,
   "metadata": {
    "scrolled": true
   },
   "outputs": [
    {
     "data": {
      "text/plain": [
       "(array([0, 1, 2, 3, 4, 5, 6, 7, 8]), <a list of 9 Text xticklabel objects>)"
      ]
     },
     "execution_count": 51,
     "metadata": {},
     "output_type": "execute_result"
    },
    {
     "data": {
      "image/png": "[encoded data removed]",
      "text/plain": [
       "<Figure size 432x288 with 1 Axes>"
      ]
     },
     "metadata": {
      "needs_background": "light"
     },
     "output_type": "display_data"
    }
   ],
   "source": [
    "counts_category = df_fund.groupby('CATEGORIES').count().iloc[:,1]\n",
    "counts_category.plot.bar()\n",
    "plt.xticks(rotation=45, ha='right')"
   ]
  },
  {
   "cell_type": "markdown",
   "metadata": {},
   "source": [
    "Number of news articles by direction"
   ]
  },
  {
   "cell_type": "code",
   "execution_count": 52,
   "metadata": {},
   "outputs": [
    {
     "data": {
      "text/plain": [
       "(array([0, 1]), <a list of 2 Text xticklabel objects>)"
      ]
     },
     "execution_count": 52,
     "metadata": {},
     "output_type": "execute_result"
    },
    {
     "data": {
      "image/png": "[encoded data removed]",
      "text/plain": [
       "<Figure size 432x288 with 1 Axes>"
      ]
     },
     "metadata": {
      "needs_background": "light"
     },
     "output_type": "display_data"
    }
   ],
   "source": [
    "counts_category = df_fund.groupby('Direction').count().iloc[:,1]\n",
    "counts_category.plot.bar()\n",
    "plt.xticks(rotation=45, ha='right')"
   ]
  },
  {
   "cell_type": "markdown",
   "metadata": {},
   "source": [
    "Percentage price change by classes (0 or 1) in boxplot"
   ]
  },
  {
   "cell_type": "code",
   "execution_count": 24,
   "metadata": {},
   "outputs": [
    {
     "data": {
      "text/plain": [
       "<matplotlib.axes._subplots.AxesSubplot at 0x1b1fccefa58>"
      ]
     },
     "execution_count": 24,
     "metadata": {},
     "output_type": "execute_result"
    },
    {
     "data": {
      "image/png": "[encoded data removed]",
      "text/plain": [
       "<Figure size 432x288 with 1 Axes>"
      ]
     },
     "metadata": {},
     "output_type": "display_data"
    }
   ],
   "source": [
    "sns.set_style(\"darkgrid\")\n",
    "sns.boxplot(x=\"Px change %\",y=\"Direction\",orient='h',width=0.5,data=df_fund)"
   ]
  },
  {
   "cell_type": "markdown",
   "metadata": {},
   "source": [
    "Word counts by classes by boxplot"
   ]
  },
  {
   "cell_type": "code",
   "execution_count": 25,
   "metadata": {},
   "outputs": [
    {
     "data": {
      "text/plain": [
       "<matplotlib.axes._subplots.AxesSubplot at 0x1b1fbf431d0>"
      ]
     },
     "execution_count": 25,
     "metadata": {},
     "output_type": "execute_result"
    },
    {
     "data": {
      "image/png": "[encoded data removed]",
      "text/plain": [
       "<Figure size 432x288 with 1 Axes>"
      ]
     },
     "metadata": {},
     "output_type": "display_data"
    }
   ],
   "source": [
    "sns.set_style(\"darkgrid\")\n",
    "sns.boxplot(x=\"word_count\",y=\"Direction\",orient='h',width=0.5,data=df_fund)"
   ]
  },
  {
   "cell_type": "markdown",
   "metadata": {},
   "source": [
    "Histogram of average length of words and word count"
   ]
  },
  {
   "cell_type": "code",
   "execution_count": 26,
   "metadata": {},
   "outputs": [
    {
     "name": "stderr",
     "output_type": "stream",
     "text": [
      "C:\\Users\\Natalie Kim\\Anaconda3\\lib\\site-packages\\matplotlib\\axes\\_axes.py:6521: MatplotlibDeprecationWarning: \n",
      "The 'normed' kwarg was deprecated in Matplotlib 2.1 and will be removed in 3.1. Use 'density' instead.\n",
      "  alternative=\"'density'\", removal=\"3.1\")\n"
     ]
    },
    {
     "data": {
      "text/plain": [
       "<matplotlib.legend.Legend at 0x1b1fbf437b8>"
      ]
     },
     "execution_count": 26,
     "metadata": {},
     "output_type": "execute_result"
    },
    {
     "data": {
      "image/png": "[encoded data removed]",
      "text/plain": [
       "<Figure size 432x288 with 1 Axes>"
      ]
     },
     "metadata": {},
     "output_type": "display_data"
    }
   ],
   "source": [
    "fig = plt.figure()\n",
    "ax = fig.add_subplot(1,1,1)\n",
    "df_fund['word_count'].hist(bins=30,ax=ax, edgecolor='k',normed=1,label=\"word count\")\n",
    "df_fund['word_count'].plot(kind='kde',ax=ax)\n",
    "#ax.set_xlim([-0.1,0.1])\n",
    "ax.legend()"
   ]
  },
  {
   "cell_type": "code",
   "execution_count": 27,
   "metadata": {},
   "outputs": [
    {
     "name": "stderr",
     "output_type": "stream",
     "text": [
      "C:\\Users\\Natalie Kim\\Anaconda3\\lib\\site-packages\\scipy\\stats\\stats.py:1713: FutureWarning: Using a non-tuple sequence for multidimensional indexing is deprecated; use `arr[tuple(seq)]` instead of `arr[seq]`. In the future this will be interpreted as an array index, `arr[np.array(seq)]`, which will result either in an error or a different result.\n",
      "  return np.add.reduce(sorted[indexer] * weights, axis=axis) / sumval\n"
     ]
    },
    {
     "data": {
      "text/plain": [
       "<matplotlib.legend.Legend at 0x1b1fbe28780>"
      ]
     },
     "execution_count": 27,
     "metadata": {},
     "output_type": "execute_result"
    },
    {
     "data": {
      "image/png": "[encoded data removed]",
      "text/plain": [
       "<Figure size 432x288 with 1 Axes>"
      ]
     },
     "metadata": {},
     "output_type": "display_data"
    }
   ],
   "source": [
    "f, ax = plt.subplots(1, 1)\n",
    "#sns.distplot( df_fund['word_count'] , color=\"skyblue\", hist_kws=dict(edgecolor='k',linewidth=1), label=\"word count\")\n",
    "sns.distplot(df_fund['avg_word'] , color=\"red\", hist_kws=dict(edgecolor='k',linewidth=1),label=\"avg length of word\")\n",
    "ax.legend()"
   ]
  },
  {
   "cell_type": "markdown",
   "metadata": {},
   "source": [
    "#### 2.2-2. Feature extraction from text"
   ]
  },
  {
   "cell_type": "markdown",
   "metadata": {},
   "source": [
    "#### Step1: Text pre-processing"
   ]
  },
  {
   "cell_type": "markdown",
   "metadata": {},
   "source": [
    "Text normalization is performed on obtained data. Pre-processing includes: lower casing, removing punctuation and stop words (words without useful information), and lemmatization with pos tag."
   ]
  },
  {
   "cell_type": "code",
   "execution_count": 53,
   "metadata": {},
   "outputs": [],
   "source": [
    "from sklearn.feature_extraction.text import CountVectorizer\n",
    "import numpy as np\n",
    "from nltk.tokenize import RegexpTokenizer\n",
    "from nltk.corpus import stopwords\n",
    "from nltk.stem.porter import PorterStemmer\n",
    "import nltk\n",
    "from nltk.stem import WordNetLemmatizer \n",
    "import string\n",
    "from collections import Counter\n",
    "from wordcloud import WordCloud\n",
    "from nltk.corpus import wordnet\n"
   ]
  },
  {
   "cell_type": "code",
   "execution_count": 54,
   "metadata": {},
   "outputs": [],
   "source": [
    "#Below lemmatization pos tag code referenced from:\n",
    "#***************************************************************************************\n",
    "#*    Title: Lemmatization Approaches with Examples in Python\n",
    "#*    Author: Machine Learning Plus\n",
    "#*    Date: 23 October 2018\n",
    "#*    Code version: N/A\n",
    "#*    Availability:https://www.machinelearningplus.com/nlp/lemmatization-examples-python/\n",
    "#*\n",
    "#***************************************************************************************/\n",
    "def get_wordnet_pos(word):\n",
    "    \"\"\"POS tag to first character lemmatize() accepts\"\"\"\n",
    "    tag = nltk.pos_tag([word])[0][1][0].upper()\n",
    "    tag_dict = {\"J\": wordnet.ADJ,\n",
    "                \"N\": wordnet.NOUN,\n",
    "                \"V\": wordnet.VERB,\n",
    "                \"R\": wordnet.ADV}\n",
    "\n",
    "    return tag_dict.get(tag, wordnet.NOUN)"
   ]
  },
  {
   "cell_type": "code",
   "execution_count": 55,
   "metadata": {},
   "outputs": [],
   "source": [
    "def preprocess(docs):\n",
    "    \"\"\"\n",
    "    preprocess each document by tokenizing, removing stopwords, and stemming\n",
    "    \"\"\"\n",
    "    # initialize regex tokenizer and porter stemmer, get english stopwords\n",
    "    exclude = set(string.punctuation+'0123456789'+'…')\n",
    "    tokenizer = RegexpTokenizer(r'\\w+')\n",
    "    english_sw = set(stopwords.words('english'))\n",
    "    stemmer = PorterStemmer()\n",
    "    lemmatizer = WordNetLemmatizer()\n",
    "    preprocessed = []\n",
    "    for doc in docs:\n",
    "        # lowercase each texts in document and remove puntuation and numbers\n",
    "        raw = doc.lower()\n",
    "        raw = ''.join([ch for ch in raw if ch not in exclude])\n",
    "        # tokenize document with regrex tokenizer\n",
    "        tokens = tokenizer.tokenize(raw)\n",
    "        # remove stop words\n",
    "        clean_tokens = [i for i in tokens if i not in english_sw]\n",
    "        # stemming tokens\n",
    "        #stemmed = [stemmer.stem(i) for i in clean_tokens]\n",
    "        #Lemmatization with pos tag\n",
    "        lemma = [lemmatizer.lemmatize(i, get_wordnet_pos(i)) for i in clean_tokens]\n",
    "\n",
    "        # add tokens to list\n",
    "        preprocessed.append(lemma)\n",
    "    return preprocessed"
   ]
  },
  {
   "cell_type": "code",
   "execution_count": 56,
   "metadata": {},
   "outputs": [
    {
     "data": {
      "text/plain": [
       "'week tech much regulation much know far go curb big tech power might straightforward first seem'"
      ]
     },
     "execution_count": 56,
     "metadata": {},
     "output_type": "execute_result"
    }
   ],
   "source": [
    "documents = df_fund.iloc[:,1].tolist() \n",
    "# pre-process each documents (each ads) and de-tokenize\n",
    "# https://www.machinelearningplus.com/nlp/lemmatization-examples-python/\n",
    "clean_documents = preprocess(documents)\n",
    "clean_documents = [' '.join(doc) for doc in clean_documents]\n",
    "clean_documents[10]"
   ]
  },
  {
   "cell_type": "markdown",
   "metadata": {},
   "source": [
    "#### Step 2: Feature Extraction by term-document frequency matrix and TF-IDF"
   ]
  },
  {
   "cell_type": "markdown",
   "metadata": {},
   "source": [
    "Before we proceed with feature extraction step, one more step to be done for pre-processing. As most frequent and least frequent words will not convey significant meaning for our text data, we will remove them. First we identify those words:"
   ]
  },
  {
   "cell_type": "code",
   "execution_count": 64,
   "metadata": {},
   "outputs": [],
   "source": [
    "#process the entire document\n",
    "def tdm_count(docs,n_gram):\n",
    "    exclude = set(string.punctuation+'0123456789'+'…')\n",
    "    First = 1\n",
    "    for txt in docs:\n",
    "        if txt != \"\":\n",
    "            vectorizer = CountVectorizer(stop_words='english',ngram_range=(n_gram,n_gram))\n",
    "            vec = vectorizer.fit_transform([txt])\n",
    "            word_dict = dict((x,y) for x,y in zip(vectorizer.get_feature_names(),vec.toarray().tolist()[0]))\n",
    "            if First == 1:\n",
    "                tdm_count = Counter(word_dict)\n",
    "                First = 0\n",
    "            else:\n",
    "                tdm_count = tdm_count + Counter(word_dict)\n",
    "    return tdm_count"
   ]
  },
  {
   "cell_type": "code",
   "execution_count": 58,
   "metadata": {},
   "outputs": [],
   "source": [
    "tdm_count_news = tdm_count(clean_documents,1)"
   ]
  },
  {
   "cell_type": "markdown",
   "metadata": {},
   "source": [
    "Extract 10 most and least frequent words"
   ]
  },
  {
   "cell_type": "code",
   "execution_count": 59,
   "metadata": {
    "scrolled": true
   },
   "outputs": [
    {
     "data": {
      "text/plain": [
       "[('apple', 3242),\n",
       " ('new', 1943),\n",
       " ('company', 1681),\n",
       " ('google', 1073),\n",
       " ('say', 1026),\n",
       " ('iphone', 1016),\n",
       " ('report', 766),\n",
       " ('tech', 760),\n",
       " ('make', 756),\n",
       " ('phone', 696)]"
      ]
     },
     "execution_count": 59,
     "metadata": {},
     "output_type": "execute_result"
    }
   ],
   "source": [
    "#Most frequent\n",
    "tdm_count= sorted(tdm_count_news.items(), key=lambda x: x[1], reverse=True)\n",
    "#top 10 appeared words\n",
    "freq = tdm_count[:10]\n",
    "freq"
   ]
  },
  {
   "cell_type": "code",
   "execution_count": 61,
   "metadata": {},
   "outputs": [
    {
     "data": {
      "text/plain": [
       "[('donottrack', 1),\n",
       " ('runnerups', 1),\n",
       " ('hid', 1),\n",
       " ('wirelessnetwork', 1),\n",
       " ('overload', 1),\n",
       " ('streetview', 1),\n",
       " ('refugee', 1),\n",
       " ('invisibility', 1),\n",
       " ('karlsruhe', 1),\n",
       " ('piracyproof', 1)]"
      ]
     },
     "execution_count": 61,
     "metadata": {},
     "output_type": "execute_result"
    }
   ],
   "source": [
    "#Least frequent\n",
    "tdm_count= sorted(tdm_count_news.items(), key=lambda x: x[1], reverse=True)\n",
    "#top 10 appeared words\n",
    "not_freq = tdm_count[-10:]\n",
    "not_freq"
   ]
  },
  {
   "cell_type": "markdown",
   "metadata": {},
   "source": [
    "Some visualizations.."
   ]
  },
  {
   "cell_type": "code",
   "execution_count": 62,
   "metadata": {},
   "outputs": [
    {
     "data": {
      "text/plain": [
       "<matplotlib.axes._subplots.AxesSubplot at 0x286580360b8>"
      ]
     },
     "execution_count": 62,
     "metadata": {},
     "output_type": "execute_result"
    },
    {
     "data": {
      "image/png": "[encoded data removed]",
      "text/plain": [
       "<Figure size 432x288 with 1 Axes>"
      ]
     },
     "metadata": {
      "needs_background": "light"
     },
     "output_type": "display_data"
    }
   ],
   "source": [
    "#horizontal barplot using pandas\n",
    "tdm_count_dict = dict(tdm_count)\n",
    "tdm_count_dict = pd.Series(tdm_count_dict,index=tdm_count_dict.keys())\n",
    "tdm_count_dict.iloc[:20].sort_values(ascending=True).plot(kind='barh')"
   ]
  },
  {
   "cell_type": "code",
   "execution_count": 63,
   "metadata": {},
   "outputs": [
    {
     "data": {
      "image/png": "[encoded data removed]",
      "text/plain": [
       "<Figure size 432x288 with 1 Axes>"
      ]
     },
     "metadata": {
      "needs_background": "light"
     },
     "output_type": "display_data"
    }
   ],
   "source": [
    "#number of words\n",
    "wordcloud = WordCloud(width=600, height=600, max_words=200, max_font_size=100, colormap='Blues').generate_from_frequencies(tdm_count_news)\n",
    "plt.figure()\n",
    "plt.imshow(wordcloud, interpolation=\"bilinear\")\n",
    "plt.axis(\"off\")\n",
    "plt.margins(x=0, y=0)\n",
    "plt.show()"
   ]
  },
  {
   "cell_type": "code",
   "execution_count": 65,
   "metadata": {},
   "outputs": [],
   "source": [
    "tdm_count_news_2 = tdm_count(clean_documents,2)"
   ]
  },
  {
   "cell_type": "code",
   "execution_count": 66,
   "metadata": {},
   "outputs": [
    {
     "data": {
      "text/plain": [
       "[('daily report', 285),\n",
       " ('new york', 282),\n",
       " ('chief executive', 243),\n",
       " ('york time', 208),\n",
       " ('silicon valley', 189),\n",
       " ('united state', 170),\n",
       " ('today scuttlebot', 128),\n",
       " ('tech company', 121),\n",
       " ('technology reporter', 107),\n",
       " ('steve job', 105)]"
      ]
     },
     "execution_count": 66,
     "metadata": {},
     "output_type": "execute_result"
    }
   ],
   "source": [
    "#sort by count\n",
    "tdm_count_2= sorted(tdm_count_news_2.items(), key=lambda x: x[1], reverse=True)\n",
    "#top 10 appeared words\n",
    "tdm_count_2[:10]"
   ]
  },
  {
   "cell_type": "code",
   "execution_count": 67,
   "metadata": {},
   "outputs": [
    {
     "data": {
      "text/plain": [
       "<matplotlib.axes._subplots.AxesSubplot at 0x28657eb6780>"
      ]
     },
     "execution_count": 67,
     "metadata": {},
     "output_type": "execute_result"
    },
    {
     "data": {
      "image/png": "[encoded data removed]",
      "text/plain": [
       "<Figure size 432x288 with 1 Axes>"
      ]
     },
     "metadata": {
      "needs_background": "light"
     },
     "output_type": "display_data"
    }
   ],
   "source": [
    "#horizontal barplot using pandas\n",
    "tdm_count_dict_2 = dict(tdm_count_2)\n",
    "tdm_count_dict_2 = pd.Series(tdm_count_dict_2,index=tdm_count_dict_2.keys())\n",
    "tdm_count_dict_2.iloc[:20].sort_values(ascending=True).plot(kind='barh')"
   ]
  },
  {
   "cell_type": "markdown",
   "metadata": {},
   "source": [
    "Now remove above 20 words from our data:"
   ]
  },
  {
   "cell_type": "code",
   "execution_count": 68,
   "metadata": {},
   "outputs": [
    {
     "data": {
      "text/plain": [
       "['apple',\n",
       " 'new',\n",
       " 'company',\n",
       " 'google',\n",
       " 'say',\n",
       " 'iphone',\n",
       " 'report',\n",
       " 'tech',\n",
       " 'make',\n",
       " 'phone',\n",
       " 'donottrack',\n",
       " 'runnerups',\n",
       " 'hid',\n",
       " 'wirelessnetwork',\n",
       " 'overload',\n",
       " 'streetview',\n",
       " 'refugee',\n",
       " 'invisibility',\n",
       " 'karlsruhe',\n",
       " 'piracyproof']"
      ]
     },
     "execution_count": 68,
     "metadata": {},
     "output_type": "execute_result"
    }
   ],
   "source": [
    "# words to be excluded\n",
    "freq = [each[0] for each in freq]\n",
    "not_freq = [each[0] for each in not_freq]\n",
    "exclude = freq+not_freq\n",
    "exclude"
   ]
  },
  {
   "cell_type": "code",
   "execution_count": 69,
   "metadata": {},
   "outputs": [],
   "source": [
    "documents = df_fund.iloc[:,1].tolist() \n",
    "new_clean_documents = preprocess(documents)"
   ]
  },
  {
   "cell_type": "code",
   "execution_count": 70,
   "metadata": {},
   "outputs": [
    {
     "data": {
      "text/plain": [
       "'unveils video service celebrity parade detail maker partner hollywood heavyweight publisher provide broad service user'"
      ]
     },
     "execution_count": 70,
     "metadata": {},
     "output_type": "execute_result"
    }
   ],
   "source": [
    "new_doc = [\" \".join(word for word in x if word not in exclude) for x in new_clean_documents] \n",
    "new_doc[1]"
   ]
  },
  {
   "cell_type": "markdown",
   "metadata": {},
   "source": [
    "#### Term-document Frequency Matrix "
   ]
  },
  {
   "cell_type": "markdown",
   "metadata": {},
   "source": [
    "Uni-gram (one word) with max_features = 1000"
   ]
  },
  {
   "cell_type": "code",
   "execution_count": 71,
   "metadata": {},
   "outputs": [
    {
     "data": {
      "text/html": [
       "<div>\n",
       "<style scoped>\n",
       "    .dataframe tbody tr th:only-of-type {\n",
       "        vertical-align: middle;\n",
       "    }\n",
       "\n",
       "    .dataframe tbody tr th {\n",
       "        vertical-align: top;\n",
       "    }\n",
       "\n",
       "    .dataframe thead tr th {\n",
       "        text-align: left;\n",
       "    }\n",
       "</style>\n",
       "<table border=\"1\" class=\"dataframe\">\n",
       "  <thead>\n",
       "    <tr>\n",
       "      <th></th>\n",
       "      <th>ability</th>\n",
       "      <th>able</th>\n",
       "      <th>access</th>\n",
       "      <th>accessory</th>\n",
       "      <th>accord</th>\n",
       "      <th>account</th>\n",
       "      <th>accuse</th>\n",
       "      <th>ackman</th>\n",
       "      <th>acquire</th>\n",
       "      <th>acquisition</th>\n",
       "      <th>...</th>\n",
       "      <th>worry</th>\n",
       "      <th>worth</th>\n",
       "      <th>write</th>\n",
       "      <th>writes</th>\n",
       "      <th>yahoo</th>\n",
       "      <th>year</th>\n",
       "      <th>york</th>\n",
       "      <th>young</th>\n",
       "      <th>youtube</th>\n",
       "      <th>zuckerberg</th>\n",
       "    </tr>\n",
       "  </thead>\n",
       "  <tbody>\n",
       "    <tr>\n",
       "      <th>0</th>\n",
       "      <td>0</td>\n",
       "      <td>0</td>\n",
       "      <td>0</td>\n",
       "      <td>0</td>\n",
       "      <td>0</td>\n",
       "      <td>0</td>\n",
       "      <td>0</td>\n",
       "      <td>0</td>\n",
       "      <td>0</td>\n",
       "      <td>0</td>\n",
       "      <td>...</td>\n",
       "      <td>0</td>\n",
       "      <td>0</td>\n",
       "      <td>0</td>\n",
       "      <td>0</td>\n",
       "      <td>0</td>\n",
       "      <td>0</td>\n",
       "      <td>0</td>\n",
       "      <td>0</td>\n",
       "      <td>0</td>\n",
       "      <td>0</td>\n",
       "    </tr>\n",
       "    <tr>\n",
       "      <th>1</th>\n",
       "      <td>0</td>\n",
       "      <td>0</td>\n",
       "      <td>0</td>\n",
       "      <td>0</td>\n",
       "      <td>0</td>\n",
       "      <td>0</td>\n",
       "      <td>0</td>\n",
       "      <td>0</td>\n",
       "      <td>0</td>\n",
       "      <td>0</td>\n",
       "      <td>...</td>\n",
       "      <td>0</td>\n",
       "      <td>0</td>\n",
       "      <td>0</td>\n",
       "      <td>0</td>\n",
       "      <td>0</td>\n",
       "      <td>0</td>\n",
       "      <td>0</td>\n",
       "      <td>0</td>\n",
       "      <td>0</td>\n",
       "      <td>0</td>\n",
       "    </tr>\n",
       "    <tr>\n",
       "      <th>2</th>\n",
       "      <td>0</td>\n",
       "      <td>0</td>\n",
       "      <td>0</td>\n",
       "      <td>0</td>\n",
       "      <td>0</td>\n",
       "      <td>0</td>\n",
       "      <td>0</td>\n",
       "      <td>0</td>\n",
       "      <td>0</td>\n",
       "      <td>0</td>\n",
       "      <td>...</td>\n",
       "      <td>0</td>\n",
       "      <td>0</td>\n",
       "      <td>0</td>\n",
       "      <td>0</td>\n",
       "      <td>0</td>\n",
       "      <td>0</td>\n",
       "      <td>0</td>\n",
       "      <td>0</td>\n",
       "      <td>0</td>\n",
       "      <td>0</td>\n",
       "    </tr>\n",
       "    <tr>\n",
       "      <th>3</th>\n",
       "      <td>0</td>\n",
       "      <td>0</td>\n",
       "      <td>0</td>\n",
       "      <td>0</td>\n",
       "      <td>0</td>\n",
       "      <td>0</td>\n",
       "      <td>0</td>\n",
       "      <td>0</td>\n",
       "      <td>0</td>\n",
       "      <td>0</td>\n",
       "      <td>...</td>\n",
       "      <td>0</td>\n",
       "      <td>0</td>\n",
       "      <td>0</td>\n",
       "      <td>0</td>\n",
       "      <td>0</td>\n",
       "      <td>0</td>\n",
       "      <td>0</td>\n",
       "      <td>0</td>\n",
       "      <td>0</td>\n",
       "      <td>0</td>\n",
       "    </tr>\n",
       "    <tr>\n",
       "      <th>4</th>\n",
       "      <td>0</td>\n",
       "      <td>0</td>\n",
       "      <td>0</td>\n",
       "      <td>0</td>\n",
       "      <td>0</td>\n",
       "      <td>0</td>\n",
       "      <td>0</td>\n",
       "      <td>0</td>\n",
       "      <td>0</td>\n",
       "      <td>0</td>\n",
       "      <td>...</td>\n",
       "      <td>0</td>\n",
       "      <td>0</td>\n",
       "      <td>0</td>\n",
       "      <td>0</td>\n",
       "      <td>0</td>\n",
       "      <td>0</td>\n",
       "      <td>0</td>\n",
       "      <td>0</td>\n",
       "      <td>0</td>\n",
       "      <td>0</td>\n",
       "    </tr>\n",
       "  </tbody>\n",
       "</table>\n",
       "<p>5 rows × 1000 columns</p>\n",
       "</div>"
      ],
      "text/plain": [
       "  ability able access accessory accord account accuse ackman acquire  \\\n",
       "0       0    0      0         0      0       0      0      0       0   \n",
       "1       0    0      0         0      0       0      0      0       0   \n",
       "2       0    0      0         0      0       0      0      0       0   \n",
       "3       0    0      0         0      0       0      0      0       0   \n",
       "4       0    0      0         0      0       0      0      0       0   \n",
       "\n",
       "  acquisition    ...     worry worth write writes yahoo year york young  \\\n",
       "0           0    ...         0     0     0      0     0    0    0     0   \n",
       "1           0    ...         0     0     0      0     0    0    0     0   \n",
       "2           0    ...         0     0     0      0     0    0    0     0   \n",
       "3           0    ...         0     0     0      0     0    0    0     0   \n",
       "4           0    ...         0     0     0      0     0    0    0     0   \n",
       "\n",
       "  youtube zuckerberg  \n",
       "0       0          0  \n",
       "1       0          0  \n",
       "2       0          0  \n",
       "3       0          0  \n",
       "4       0          0  \n",
       "\n",
       "[5 rows x 1000 columns]"
      ]
     },
     "execution_count": 71,
     "metadata": {},
     "output_type": "execute_result"
    }
   ],
   "source": [
    "# term - document matrix\n",
    "count_vector = CountVectorizer(stop_words='english',max_features = 1000)\n",
    "X_train_counts = count_vector.fit_transform(new_doc)\n",
    "tdm = pd.DataFrame(X_train_counts.toarray(), columns=[count_vector.get_feature_names()])\n",
    "tdm.head()"
   ]
  },
  {
   "cell_type": "markdown",
   "metadata": {},
   "source": [
    "Bi-gram (Two word)"
   ]
  },
  {
   "cell_type": "code",
   "execution_count": 72,
   "metadata": {},
   "outputs": [
    {
     "data": {
      "text/html": [
       "<div>\n",
       "<style scoped>\n",
       "    .dataframe tbody tr th:only-of-type {\n",
       "        vertical-align: middle;\n",
       "    }\n",
       "\n",
       "    .dataframe tbody tr th {\n",
       "        vertical-align: top;\n",
       "    }\n",
       "\n",
       "    .dataframe thead tr th {\n",
       "        text-align: left;\n",
       "    }\n",
       "</style>\n",
       "<table border=\"1\" class=\"dataframe\">\n",
       "  <thead>\n",
       "    <tr>\n",
       "      <th></th>\n",
       "      <th>access data</th>\n",
       "      <th>accord people</th>\n",
       "      <th>activist hedge</th>\n",
       "      <th>activist investor</th>\n",
       "      <th>ad blocker</th>\n",
       "      <th>add feature</th>\n",
       "      <th>address book</th>\n",
       "      <th>adobe flash</th>\n",
       "      <th>afterhours trading</th>\n",
       "      <th>agree buy</th>\n",
       "      <th>...</th>\n",
       "      <th>worth trillion</th>\n",
       "      <th>writes deal</th>\n",
       "      <th>xi jinping</th>\n",
       "      <th>year ago</th>\n",
       "      <th>year earlier</th>\n",
       "      <th>york city</th>\n",
       "      <th>york stock</th>\n",
       "      <th>york time</th>\n",
       "      <th>youtube video</th>\n",
       "      <th>zuckerberg facebook</th>\n",
       "    </tr>\n",
       "  </thead>\n",
       "  <tbody>\n",
       "    <tr>\n",
       "      <th>0</th>\n",
       "      <td>0</td>\n",
       "      <td>0</td>\n",
       "      <td>0</td>\n",
       "      <td>0</td>\n",
       "      <td>0</td>\n",
       "      <td>0</td>\n",
       "      <td>0</td>\n",
       "      <td>0</td>\n",
       "      <td>0</td>\n",
       "      <td>0</td>\n",
       "      <td>...</td>\n",
       "      <td>0</td>\n",
       "      <td>0</td>\n",
       "      <td>0</td>\n",
       "      <td>0</td>\n",
       "      <td>0</td>\n",
       "      <td>0</td>\n",
       "      <td>0</td>\n",
       "      <td>0</td>\n",
       "      <td>0</td>\n",
       "      <td>0</td>\n",
       "    </tr>\n",
       "    <tr>\n",
       "      <th>1</th>\n",
       "      <td>0</td>\n",
       "      <td>0</td>\n",
       "      <td>0</td>\n",
       "      <td>0</td>\n",
       "      <td>0</td>\n",
       "      <td>0</td>\n",
       "      <td>0</td>\n",
       "      <td>0</td>\n",
       "      <td>0</td>\n",
       "      <td>0</td>\n",
       "      <td>...</td>\n",
       "      <td>0</td>\n",
       "      <td>0</td>\n",
       "      <td>0</td>\n",
       "      <td>0</td>\n",
       "      <td>0</td>\n",
       "      <td>0</td>\n",
       "      <td>0</td>\n",
       "      <td>0</td>\n",
       "      <td>0</td>\n",
       "      <td>0</td>\n",
       "    </tr>\n",
       "    <tr>\n",
       "      <th>2</th>\n",
       "      <td>0</td>\n",
       "      <td>0</td>\n",
       "      <td>0</td>\n",
       "      <td>0</td>\n",
       "      <td>0</td>\n",
       "      <td>0</td>\n",
       "      <td>0</td>\n",
       "      <td>0</td>\n",
       "      <td>0</td>\n",
       "      <td>0</td>\n",
       "      <td>...</td>\n",
       "      <td>0</td>\n",
       "      <td>0</td>\n",
       "      <td>0</td>\n",
       "      <td>0</td>\n",
       "      <td>0</td>\n",
       "      <td>0</td>\n",
       "      <td>0</td>\n",
       "      <td>0</td>\n",
       "      <td>0</td>\n",
       "      <td>0</td>\n",
       "    </tr>\n",
       "    <tr>\n",
       "      <th>3</th>\n",
       "      <td>0</td>\n",
       "      <td>0</td>\n",
       "      <td>0</td>\n",
       "      <td>0</td>\n",
       "      <td>0</td>\n",
       "      <td>0</td>\n",
       "      <td>0</td>\n",
       "      <td>0</td>\n",
       "      <td>0</td>\n",
       "      <td>0</td>\n",
       "      <td>...</td>\n",
       "      <td>0</td>\n",
       "      <td>0</td>\n",
       "      <td>0</td>\n",
       "      <td>0</td>\n",
       "      <td>0</td>\n",
       "      <td>0</td>\n",
       "      <td>0</td>\n",
       "      <td>0</td>\n",
       "      <td>0</td>\n",
       "      <td>0</td>\n",
       "    </tr>\n",
       "    <tr>\n",
       "      <th>4</th>\n",
       "      <td>0</td>\n",
       "      <td>0</td>\n",
       "      <td>0</td>\n",
       "      <td>0</td>\n",
       "      <td>0</td>\n",
       "      <td>0</td>\n",
       "      <td>0</td>\n",
       "      <td>0</td>\n",
       "      <td>0</td>\n",
       "      <td>0</td>\n",
       "      <td>...</td>\n",
       "      <td>0</td>\n",
       "      <td>0</td>\n",
       "      <td>0</td>\n",
       "      <td>0</td>\n",
       "      <td>0</td>\n",
       "      <td>0</td>\n",
       "      <td>0</td>\n",
       "      <td>0</td>\n",
       "      <td>0</td>\n",
       "      <td>0</td>\n",
       "    </tr>\n",
       "  </tbody>\n",
       "</table>\n",
       "<p>5 rows × 1000 columns</p>\n",
       "</div>"
      ],
      "text/plain": [
       "  access data accord people activist hedge activist investor ad blocker  \\\n",
       "0           0             0              0                 0          0   \n",
       "1           0             0              0                 0          0   \n",
       "2           0             0              0                 0          0   \n",
       "3           0             0              0                 0          0   \n",
       "4           0             0              0                 0          0   \n",
       "\n",
       "  add feature address book adobe flash afterhours trading agree buy  \\\n",
       "0           0            0           0                  0         0   \n",
       "1           0            0           0                  0         0   \n",
       "2           0            0           0                  0         0   \n",
       "3           0            0           0                  0         0   \n",
       "4           0            0           0                  0         0   \n",
       "\n",
       "          ...         worth trillion writes deal xi jinping year ago  \\\n",
       "0         ...                      0           0          0        0   \n",
       "1         ...                      0           0          0        0   \n",
       "2         ...                      0           0          0        0   \n",
       "3         ...                      0           0          0        0   \n",
       "4         ...                      0           0          0        0   \n",
       "\n",
       "  year earlier york city york stock york time youtube video  \\\n",
       "0            0         0          0         0             0   \n",
       "1            0         0          0         0             0   \n",
       "2            0         0          0         0             0   \n",
       "3            0         0          0         0             0   \n",
       "4            0         0          0         0             0   \n",
       "\n",
       "  zuckerberg facebook  \n",
       "0                   0  \n",
       "1                   0  \n",
       "2                   0  \n",
       "3                   0  \n",
       "4                   0  \n",
       "\n",
       "[5 rows x 1000 columns]"
      ]
     },
     "execution_count": 72,
     "metadata": {},
     "output_type": "execute_result"
    }
   ],
   "source": [
    "# term - document matrix\n",
    "count_vector = CountVectorizer(stop_words='english',ngram_range=(2,2),max_features = 1000)\n",
    "X_train_counts_2 = count_vector.fit_transform(new_doc)\n",
    "tdm = pd.DataFrame(X_train_counts_2.toarray(), columns=[count_vector.get_feature_names()])\n",
    "tdm.head()"
   ]
  },
  {
   "cell_type": "markdown",
   "metadata": {},
   "source": [
    "#### TF-IDF"
   ]
  },
  {
   "cell_type": "markdown",
   "metadata": {},
   "source": [
    "Uni-gram"
   ]
  },
  {
   "cell_type": "code",
   "execution_count": 73,
   "metadata": {
    "scrolled": true
   },
   "outputs": [
    {
     "data": {
      "text/html": [
       "<div>\n",
       "<style scoped>\n",
       "    .dataframe tbody tr th:only-of-type {\n",
       "        vertical-align: middle;\n",
       "    }\n",
       "\n",
       "    .dataframe tbody tr th {\n",
       "        vertical-align: top;\n",
       "    }\n",
       "\n",
       "    .dataframe thead tr th {\n",
       "        text-align: left;\n",
       "    }\n",
       "</style>\n",
       "<table border=\"1\" class=\"dataframe\">\n",
       "  <thead>\n",
       "    <tr>\n",
       "      <th></th>\n",
       "      <th>access data</th>\n",
       "      <th>accord people</th>\n",
       "      <th>activist hedge</th>\n",
       "      <th>activist investor</th>\n",
       "      <th>ad blocker</th>\n",
       "      <th>add feature</th>\n",
       "      <th>address book</th>\n",
       "      <th>adobe flash</th>\n",
       "      <th>afterhours trading</th>\n",
       "      <th>agree buy</th>\n",
       "      <th>...</th>\n",
       "      <th>worth trillion</th>\n",
       "      <th>writes deal</th>\n",
       "      <th>xi jinping</th>\n",
       "      <th>year ago</th>\n",
       "      <th>year earlier</th>\n",
       "      <th>york city</th>\n",
       "      <th>york stock</th>\n",
       "      <th>york time</th>\n",
       "      <th>youtube video</th>\n",
       "      <th>zuckerberg facebook</th>\n",
       "    </tr>\n",
       "  </thead>\n",
       "  <tbody>\n",
       "    <tr>\n",
       "      <th>0</th>\n",
       "      <td>0.0</td>\n",
       "      <td>0.0</td>\n",
       "      <td>0.0</td>\n",
       "      <td>0.0</td>\n",
       "      <td>0.0</td>\n",
       "      <td>0.0</td>\n",
       "      <td>0.0</td>\n",
       "      <td>0.0</td>\n",
       "      <td>0.0</td>\n",
       "      <td>0.0</td>\n",
       "      <td>...</td>\n",
       "      <td>0.0</td>\n",
       "      <td>0.0</td>\n",
       "      <td>0.0</td>\n",
       "      <td>0.0</td>\n",
       "      <td>0.0</td>\n",
       "      <td>0.0</td>\n",
       "      <td>0.0</td>\n",
       "      <td>0.0</td>\n",
       "      <td>0.0</td>\n",
       "      <td>0.0</td>\n",
       "    </tr>\n",
       "    <tr>\n",
       "      <th>1</th>\n",
       "      <td>0.0</td>\n",
       "      <td>0.0</td>\n",
       "      <td>0.0</td>\n",
       "      <td>0.0</td>\n",
       "      <td>0.0</td>\n",
       "      <td>0.0</td>\n",
       "      <td>0.0</td>\n",
       "      <td>0.0</td>\n",
       "      <td>0.0</td>\n",
       "      <td>0.0</td>\n",
       "      <td>...</td>\n",
       "      <td>0.0</td>\n",
       "      <td>0.0</td>\n",
       "      <td>0.0</td>\n",
       "      <td>0.0</td>\n",
       "      <td>0.0</td>\n",
       "      <td>0.0</td>\n",
       "      <td>0.0</td>\n",
       "      <td>0.0</td>\n",
       "      <td>0.0</td>\n",
       "      <td>0.0</td>\n",
       "    </tr>\n",
       "    <tr>\n",
       "      <th>2</th>\n",
       "      <td>0.0</td>\n",
       "      <td>0.0</td>\n",
       "      <td>0.0</td>\n",
       "      <td>0.0</td>\n",
       "      <td>0.0</td>\n",
       "      <td>0.0</td>\n",
       "      <td>0.0</td>\n",
       "      <td>0.0</td>\n",
       "      <td>0.0</td>\n",
       "      <td>0.0</td>\n",
       "      <td>...</td>\n",
       "      <td>0.0</td>\n",
       "      <td>0.0</td>\n",
       "      <td>0.0</td>\n",
       "      <td>0.0</td>\n",
       "      <td>0.0</td>\n",
       "      <td>0.0</td>\n",
       "      <td>0.0</td>\n",
       "      <td>0.0</td>\n",
       "      <td>0.0</td>\n",
       "      <td>0.0</td>\n",
       "    </tr>\n",
       "    <tr>\n",
       "      <th>3</th>\n",
       "      <td>0.0</td>\n",
       "      <td>0.0</td>\n",
       "      <td>0.0</td>\n",
       "      <td>0.0</td>\n",
       "      <td>0.0</td>\n",
       "      <td>0.0</td>\n",
       "      <td>0.0</td>\n",
       "      <td>0.0</td>\n",
       "      <td>0.0</td>\n",
       "      <td>0.0</td>\n",
       "      <td>...</td>\n",
       "      <td>0.0</td>\n",
       "      <td>0.0</td>\n",
       "      <td>0.0</td>\n",
       "      <td>0.0</td>\n",
       "      <td>0.0</td>\n",
       "      <td>0.0</td>\n",
       "      <td>0.0</td>\n",
       "      <td>0.0</td>\n",
       "      <td>0.0</td>\n",
       "      <td>0.0</td>\n",
       "    </tr>\n",
       "    <tr>\n",
       "      <th>4</th>\n",
       "      <td>0.0</td>\n",
       "      <td>0.0</td>\n",
       "      <td>0.0</td>\n",
       "      <td>0.0</td>\n",
       "      <td>0.0</td>\n",
       "      <td>0.0</td>\n",
       "      <td>0.0</td>\n",
       "      <td>0.0</td>\n",
       "      <td>0.0</td>\n",
       "      <td>0.0</td>\n",
       "      <td>...</td>\n",
       "      <td>0.0</td>\n",
       "      <td>0.0</td>\n",
       "      <td>0.0</td>\n",
       "      <td>0.0</td>\n",
       "      <td>0.0</td>\n",
       "      <td>0.0</td>\n",
       "      <td>0.0</td>\n",
       "      <td>0.0</td>\n",
       "      <td>0.0</td>\n",
       "      <td>0.0</td>\n",
       "    </tr>\n",
       "  </tbody>\n",
       "</table>\n",
       "<p>5 rows × 1000 columns</p>\n",
       "</div>"
      ],
      "text/plain": [
       "  access data accord people activist hedge activist investor ad blocker  \\\n",
       "0         0.0           0.0            0.0               0.0        0.0   \n",
       "1         0.0           0.0            0.0               0.0        0.0   \n",
       "2         0.0           0.0            0.0               0.0        0.0   \n",
       "3         0.0           0.0            0.0               0.0        0.0   \n",
       "4         0.0           0.0            0.0               0.0        0.0   \n",
       "\n",
       "  add feature address book adobe flash afterhours trading agree buy  \\\n",
       "0         0.0          0.0         0.0                0.0       0.0   \n",
       "1         0.0          0.0         0.0                0.0       0.0   \n",
       "2         0.0          0.0         0.0                0.0       0.0   \n",
       "3         0.0          0.0         0.0                0.0       0.0   \n",
       "4         0.0          0.0         0.0                0.0       0.0   \n",
       "\n",
       "          ...         worth trillion writes deal xi jinping year ago  \\\n",
       "0         ...                    0.0         0.0        0.0      0.0   \n",
       "1         ...                    0.0         0.0        0.0      0.0   \n",
       "2         ...                    0.0         0.0        0.0      0.0   \n",
       "3         ...                    0.0         0.0        0.0      0.0   \n",
       "4         ...                    0.0         0.0        0.0      0.0   \n",
       "\n",
       "  year earlier york city york stock york time youtube video  \\\n",
       "0          0.0       0.0        0.0       0.0           0.0   \n",
       "1          0.0       0.0        0.0       0.0           0.0   \n",
       "2          0.0       0.0        0.0       0.0           0.0   \n",
       "3          0.0       0.0        0.0       0.0           0.0   \n",
       "4          0.0       0.0        0.0       0.0           0.0   \n",
       "\n",
       "  zuckerberg facebook  \n",
       "0                 0.0  \n",
       "1                 0.0  \n",
       "2                 0.0  \n",
       "3                 0.0  \n",
       "4                 0.0  \n",
       "\n",
       "[5 rows x 1000 columns]"
      ]
     },
     "execution_count": 73,
     "metadata": {},
     "output_type": "execute_result"
    }
   ],
   "source": [
    "# create term-document matrix using TF-IDF. Arbitrary used L1 Norm used to normalize term vectors\n",
    "from sklearn.feature_extraction.text import TfidfTransformer\n",
    "tf_transformer = TfidfTransformer(norm=u'l2')\n",
    "X_train_tfidf = tf_transformer.fit_transform(X_train_counts)\n",
    "pd.DataFrame(X_train_tfidf.toarray(), columns=[count_vector.get_feature_names()]).head()"
   ]
  },
  {
   "cell_type": "markdown",
   "metadata": {},
   "source": [
    "Bi-Gram"
   ]
  },
  {
   "cell_type": "code",
   "execution_count": 74,
   "metadata": {},
   "outputs": [
    {
     "data": {
      "text/html": [
       "<div>\n",
       "<style scoped>\n",
       "    .dataframe tbody tr th:only-of-type {\n",
       "        vertical-align: middle;\n",
       "    }\n",
       "\n",
       "    .dataframe tbody tr th {\n",
       "        vertical-align: top;\n",
       "    }\n",
       "\n",
       "    .dataframe thead tr th {\n",
       "        text-align: left;\n",
       "    }\n",
       "</style>\n",
       "<table border=\"1\" class=\"dataframe\">\n",
       "  <thead>\n",
       "    <tr>\n",
       "      <th></th>\n",
       "      <th>access data</th>\n",
       "      <th>accord people</th>\n",
       "      <th>activist hedge</th>\n",
       "      <th>activist investor</th>\n",
       "      <th>ad blocker</th>\n",
       "      <th>add feature</th>\n",
       "      <th>address book</th>\n",
       "      <th>adobe flash</th>\n",
       "      <th>afterhours trading</th>\n",
       "      <th>agree buy</th>\n",
       "      <th>...</th>\n",
       "      <th>worth trillion</th>\n",
       "      <th>writes deal</th>\n",
       "      <th>xi jinping</th>\n",
       "      <th>year ago</th>\n",
       "      <th>year earlier</th>\n",
       "      <th>york city</th>\n",
       "      <th>york stock</th>\n",
       "      <th>york time</th>\n",
       "      <th>youtube video</th>\n",
       "      <th>zuckerberg facebook</th>\n",
       "    </tr>\n",
       "  </thead>\n",
       "  <tbody>\n",
       "    <tr>\n",
       "      <th>0</th>\n",
       "      <td>0.0</td>\n",
       "      <td>0.0</td>\n",
       "      <td>0.0</td>\n",
       "      <td>0.0</td>\n",
       "      <td>0.0</td>\n",
       "      <td>0.0</td>\n",
       "      <td>0.0</td>\n",
       "      <td>0.0</td>\n",
       "      <td>0.0</td>\n",
       "      <td>0.0</td>\n",
       "      <td>...</td>\n",
       "      <td>0.0</td>\n",
       "      <td>0.0</td>\n",
       "      <td>0.0</td>\n",
       "      <td>0.0</td>\n",
       "      <td>0.0</td>\n",
       "      <td>0.0</td>\n",
       "      <td>0.0</td>\n",
       "      <td>0.0</td>\n",
       "      <td>0.0</td>\n",
       "      <td>0.0</td>\n",
       "    </tr>\n",
       "    <tr>\n",
       "      <th>1</th>\n",
       "      <td>0.0</td>\n",
       "      <td>0.0</td>\n",
       "      <td>0.0</td>\n",
       "      <td>0.0</td>\n",
       "      <td>0.0</td>\n",
       "      <td>0.0</td>\n",
       "      <td>0.0</td>\n",
       "      <td>0.0</td>\n",
       "      <td>0.0</td>\n",
       "      <td>0.0</td>\n",
       "      <td>...</td>\n",
       "      <td>0.0</td>\n",
       "      <td>0.0</td>\n",
       "      <td>0.0</td>\n",
       "      <td>0.0</td>\n",
       "      <td>0.0</td>\n",
       "      <td>0.0</td>\n",
       "      <td>0.0</td>\n",
       "      <td>0.0</td>\n",
       "      <td>0.0</td>\n",
       "      <td>0.0</td>\n",
       "    </tr>\n",
       "    <tr>\n",
       "      <th>2</th>\n",
       "      <td>0.0</td>\n",
       "      <td>0.0</td>\n",
       "      <td>0.0</td>\n",
       "      <td>0.0</td>\n",
       "      <td>0.0</td>\n",
       "      <td>0.0</td>\n",
       "      <td>0.0</td>\n",
       "      <td>0.0</td>\n",
       "      <td>0.0</td>\n",
       "      <td>0.0</td>\n",
       "      <td>...</td>\n",
       "      <td>0.0</td>\n",
       "      <td>0.0</td>\n",
       "      <td>0.0</td>\n",
       "      <td>0.0</td>\n",
       "      <td>0.0</td>\n",
       "      <td>0.0</td>\n",
       "      <td>0.0</td>\n",
       "      <td>0.0</td>\n",
       "      <td>0.0</td>\n",
       "      <td>0.0</td>\n",
       "    </tr>\n",
       "    <tr>\n",
       "      <th>3</th>\n",
       "      <td>0.0</td>\n",
       "      <td>0.0</td>\n",
       "      <td>0.0</td>\n",
       "      <td>0.0</td>\n",
       "      <td>0.0</td>\n",
       "      <td>0.0</td>\n",
       "      <td>0.0</td>\n",
       "      <td>0.0</td>\n",
       "      <td>0.0</td>\n",
       "      <td>0.0</td>\n",
       "      <td>...</td>\n",
       "      <td>0.0</td>\n",
       "      <td>0.0</td>\n",
       "      <td>0.0</td>\n",
       "      <td>0.0</td>\n",
       "      <td>0.0</td>\n",
       "      <td>0.0</td>\n",
       "      <td>0.0</td>\n",
       "      <td>0.0</td>\n",
       "      <td>0.0</td>\n",
       "      <td>0.0</td>\n",
       "    </tr>\n",
       "    <tr>\n",
       "      <th>4</th>\n",
       "      <td>0.0</td>\n",
       "      <td>0.0</td>\n",
       "      <td>0.0</td>\n",
       "      <td>0.0</td>\n",
       "      <td>0.0</td>\n",
       "      <td>0.0</td>\n",
       "      <td>0.0</td>\n",
       "      <td>0.0</td>\n",
       "      <td>0.0</td>\n",
       "      <td>0.0</td>\n",
       "      <td>...</td>\n",
       "      <td>0.0</td>\n",
       "      <td>0.0</td>\n",
       "      <td>0.0</td>\n",
       "      <td>0.0</td>\n",
       "      <td>0.0</td>\n",
       "      <td>0.0</td>\n",
       "      <td>0.0</td>\n",
       "      <td>0.0</td>\n",
       "      <td>0.0</td>\n",
       "      <td>0.0</td>\n",
       "    </tr>\n",
       "  </tbody>\n",
       "</table>\n",
       "<p>5 rows × 1000 columns</p>\n",
       "</div>"
      ],
      "text/plain": [
       "  access data accord people activist hedge activist investor ad blocker  \\\n",
       "0         0.0           0.0            0.0               0.0        0.0   \n",
       "1         0.0           0.0            0.0               0.0        0.0   \n",
       "2         0.0           0.0            0.0               0.0        0.0   \n",
       "3         0.0           0.0            0.0               0.0        0.0   \n",
       "4         0.0           0.0            0.0               0.0        0.0   \n",
       "\n",
       "  add feature address book adobe flash afterhours trading agree buy  \\\n",
       "0         0.0          0.0         0.0                0.0       0.0   \n",
       "1         0.0          0.0         0.0                0.0       0.0   \n",
       "2         0.0          0.0         0.0                0.0       0.0   \n",
       "3         0.0          0.0         0.0                0.0       0.0   \n",
       "4         0.0          0.0         0.0                0.0       0.0   \n",
       "\n",
       "          ...         worth trillion writes deal xi jinping year ago  \\\n",
       "0         ...                    0.0         0.0        0.0      0.0   \n",
       "1         ...                    0.0         0.0        0.0      0.0   \n",
       "2         ...                    0.0         0.0        0.0      0.0   \n",
       "3         ...                    0.0         0.0        0.0      0.0   \n",
       "4         ...                    0.0         0.0        0.0      0.0   \n",
       "\n",
       "  year earlier york city york stock york time youtube video  \\\n",
       "0          0.0       0.0        0.0       0.0           0.0   \n",
       "1          0.0       0.0        0.0       0.0           0.0   \n",
       "2          0.0       0.0        0.0       0.0           0.0   \n",
       "3          0.0       0.0        0.0       0.0           0.0   \n",
       "4          0.0       0.0        0.0       0.0           0.0   \n",
       "\n",
       "  zuckerberg facebook  \n",
       "0                 0.0  \n",
       "1                 0.0  \n",
       "2                 0.0  \n",
       "3                 0.0  \n",
       "4                 0.0  \n",
       "\n",
       "[5 rows x 1000 columns]"
      ]
     },
     "execution_count": 74,
     "metadata": {},
     "output_type": "execute_result"
    }
   ],
   "source": [
    "tf_transformer = TfidfTransformer(norm=u'l2')\n",
    "X_train_tfidf_2 = tf_transformer.fit_transform(X_train_counts_2)\n",
    "X_train_tfidf_2_pd = pd.DataFrame(X_train_tfidf_2.toarray(), columns=[count_vector.get_feature_names()])\n",
    "X_train_tfidf_2_pd.head()"
   ]
  },
  {
   "cell_type": "markdown",
   "metadata": {},
   "source": [
    "#### 2.2-3. Topic Modeling and Dimensionality reduction"
   ]
  },
  {
   "cell_type": "code",
   "execution_count": 75,
   "metadata": {},
   "outputs": [
    {
     "data": {
      "text/plain": [
       "['Internet',\n",
       " 'Business Computing',\n",
       " 'Economy',\n",
       " 'Technology',\n",
       " 'Personal Tech',\n",
       " 'Global Business',\n",
       " 'International Business',\n",
       " 'Business',\n",
       " 'Companies']"
      ]
     },
     "execution_count": 75,
     "metadata": {},
     "output_type": "execute_result"
    }
   ],
   "source": [
    "list(set(df_fund['CATEGORIES']))"
   ]
  },
  {
   "cell_type": "markdown",
   "metadata": {},
   "source": [
    "As we have 9 categories included in our dataset, first we try with n_components = 9"
   ]
  },
  {
   "cell_type": "code",
   "execution_count": 77,
   "metadata": {},
   "outputs": [
    {
     "data": {
      "text/plain": [
       "9"
      ]
     },
     "execution_count": 77,
     "metadata": {},
     "output_type": "execute_result"
    }
   ],
   "source": [
    "#https://www.analyticsvidhya.com/blog/2018/10/stepwise-guide-topic-modeling-latent-semantic-analysis/\n",
    "from sklearn.decomposition import TruncatedSVD\n",
    "from sklearn.preprocessing import Normalizer\n",
    "from sklearn.feature_extraction.text import CountVectorizer\n",
    "from sklearn.feature_extraction.text import TfidfTransformer\n",
    "from sklearn.decomposition import TruncatedSVD\n",
    "from sklearn.model_selection import train_test_split\n",
    "from sklearn.linear_model import LogisticRegression\n",
    "from sklearn.metrics import confusion_matrix\n",
    "from sklearn.pipeline import make_pipeline\n",
    "from sklearn.preprocessing import Normalizer\n",
    "\n",
    "# SVD decomposition\n",
    "svd_model = TruncatedSVD(n_components=9, algorithm='randomized', n_iter=100, random_state=122)\n",
    "tfidf_lsa = svd_model.fit_transform(X_train_tfidf_2) \n",
    "tfidf_lsa = Normalizer(copy=False).fit_transform(tfidf_lsa)\n",
    "len(svd_model.components_)"
   ]
  },
  {
   "cell_type": "code",
   "execution_count": 78,
   "metadata": {},
   "outputs": [
    {
     "data": {
      "text/plain": [
       "array([-0.02278965,  0.50841364,  0.19712167,  0.06394099,  0.81487111,\n",
       "       -0.00357622, -0.17768798, -0.02856794, -0.04042209])"
      ]
     },
     "execution_count": 78,
     "metadata": {},
     "output_type": "execute_result"
    }
   ],
   "source": [
    "tfidf_lsa[0]"
   ]
  },
  {
   "cell_type": "code",
   "execution_count": 79,
   "metadata": {},
   "outputs": [
    {
     "data": {
      "text/plain": [
       "TruncatedSVD(algorithm='randomized', n_components=9, n_iter=100,\n",
       "       random_state=122, tol=0.0)"
      ]
     },
     "execution_count": 79,
     "metadata": {},
     "output_type": "execute_result"
    }
   ],
   "source": [
    "svd_model"
   ]
  },
  {
   "cell_type": "code",
   "execution_count": 80,
   "metadata": {},
   "outputs": [
    {
     "name": "stdout",
     "output_type": "stream",
     "text": [
      "Topic 0: \n",
      "silicon valley\n",
      "chief executive\n",
      "york time\n",
      "technology reporter\n",
      "today scuttlebot\n",
      "editor york\n",
      "reporter editor\n",
      "Topic 1: \n",
      "york time\n",
      "technology reporter\n",
      "editor york\n",
      "reporter editor\n",
      "today scuttlebot\n",
      "scour web\n",
      "time scour\n",
      "Topic 2: \n",
      "morning takeout\n",
      "takeout highlight\n",
      "dealbook newsletter\n",
      "highlight dealbook\n",
      "takeout today\n",
      "today morning\n",
      "steve job\n",
      "Topic 3: \n",
      "united state\n",
      "chief executive\n",
      "trade war\n",
      "outside united\n",
      "market share\n",
      "economist writes\n",
      "data center\n",
      "Topic 4: \n",
      "chief executive\n",
      "cook chief\n",
      "tim cook\n",
      "steve job\n",
      "timothy cook\n",
      "steven job\n",
      "jc penney\n",
      "Topic 5: \n",
      "mobile device\n",
      "web site\n",
      "smartphones tablet\n",
      "social network\n",
      "app developer\n",
      "desktop computer\n",
      "chip maker\n",
      "Topic 6: \n",
      "steve job\n",
      "steven job\n",
      "wall street\n",
      "mr job\n",
      "san francisco\n",
      "tim cook\n",
      "job cofounder\n",
      "Topic 7: \n",
      "wall street\n",
      "goldman sachs\n",
      "hedge fund\n",
      "morning agenda\n",
      "wall st\n",
      "insider trading\n",
      "technology sector\n",
      "Topic 8: \n",
      "web site\n",
      "app smart\n",
      "smart extra\n",
      "app store\n",
      "mobile app\n",
      "apps help\n",
      "mobile apps\n"
     ]
    }
   ],
   "source": [
    "# get top 7 words in each topic \n",
    "terms = count_vector.get_feature_names()\n",
    "for i, comp in enumerate(svd_model.components_):\n",
    "    terms_comp = zip(terms, comp)\n",
    "    sorted_terms = sorted(terms_comp, key= lambda x:x[1], reverse=True)[:7]\n",
    "    print(\"Topic \"+str(i)+\": \")\n",
    "    for t in sorted_terms:\n",
    "        print(t[0])"
   ]
  },
  {
   "cell_type": "markdown",
   "metadata": {},
   "source": [
    "Dimensionality Reduction"
   ]
  },
  {
   "cell_type": "code",
   "execution_count": 81,
   "metadata": {
    "scrolled": true
   },
   "outputs": [
    {
     "data": {
      "text/html": [
       "<div>\n",
       "<style scoped>\n",
       "    .dataframe tbody tr th:only-of-type {\n",
       "        vertical-align: middle;\n",
       "    }\n",
       "\n",
       "    .dataframe tbody tr th {\n",
       "        vertical-align: top;\n",
       "    }\n",
       "\n",
       "    .dataframe thead th {\n",
       "        text-align: right;\n",
       "    }\n",
       "</style>\n",
       "<table border=\"1\" class=\"dataframe\">\n",
       "  <thead>\n",
       "    <tr style=\"text-align: right;\">\n",
       "      <th></th>\n",
       "      <th>0</th>\n",
       "      <th>1</th>\n",
       "      <th>2</th>\n",
       "      <th>3</th>\n",
       "      <th>4</th>\n",
       "      <th>5</th>\n",
       "      <th>6</th>\n",
       "      <th>7</th>\n",
       "      <th>8</th>\n",
       "    </tr>\n",
       "  </thead>\n",
       "  <tbody>\n",
       "    <tr>\n",
       "      <th>0</th>\n",
       "      <td>0.066354</td>\n",
       "      <td>-0.108950</td>\n",
       "      <td>-0.080730</td>\n",
       "      <td>-0.002197</td>\n",
       "      <td>0.712783</td>\n",
       "      <td>-0.159019</td>\n",
       "      <td>-0.138820</td>\n",
       "      <td>0.187945</td>\n",
       "      <td>-0.623910</td>\n",
       "    </tr>\n",
       "    <tr>\n",
       "      <th>1</th>\n",
       "      <td>0.007412</td>\n",
       "      <td>-0.262527</td>\n",
       "      <td>-0.162170</td>\n",
       "      <td>-0.577409</td>\n",
       "      <td>-0.696642</td>\n",
       "      <td>-0.118315</td>\n",
       "      <td>0.152428</td>\n",
       "      <td>0.103387</td>\n",
       "      <td>-0.195173</td>\n",
       "    </tr>\n",
       "    <tr>\n",
       "      <th>2</th>\n",
       "      <td>0.034723</td>\n",
       "      <td>0.041387</td>\n",
       "      <td>0.006214</td>\n",
       "      <td>0.013423</td>\n",
       "      <td>0.046236</td>\n",
       "      <td>0.011508</td>\n",
       "      <td>0.084273</td>\n",
       "      <td>0.956333</td>\n",
       "      <td>-0.270034</td>\n",
       "    </tr>\n",
       "    <tr>\n",
       "      <th>3</th>\n",
       "      <td>-0.010241</td>\n",
       "      <td>0.105007</td>\n",
       "      <td>0.559315</td>\n",
       "      <td>0.699541</td>\n",
       "      <td>0.322043</td>\n",
       "      <td>0.227814</td>\n",
       "      <td>0.080731</td>\n",
       "      <td>0.130034</td>\n",
       "      <td>-0.087403</td>\n",
       "    </tr>\n",
       "    <tr>\n",
       "      <th>4</th>\n",
       "      <td>-0.035912</td>\n",
       "      <td>0.091688</td>\n",
       "      <td>0.013366</td>\n",
       "      <td>-0.232307</td>\n",
       "      <td>-0.049742</td>\n",
       "      <td>0.033557</td>\n",
       "      <td>0.401036</td>\n",
       "      <td>0.387044</td>\n",
       "      <td>-0.788622</td>\n",
       "    </tr>\n",
       "  </tbody>\n",
       "</table>\n",
       "</div>"
      ],
      "text/plain": [
       "          0         1         2         3         4         5         6  \\\n",
       "0  0.066354 -0.108950 -0.080730 -0.002197  0.712783 -0.159019 -0.138820   \n",
       "1  0.007412 -0.262527 -0.162170 -0.577409 -0.696642 -0.118315  0.152428   \n",
       "2  0.034723  0.041387  0.006214  0.013423  0.046236  0.011508  0.084273   \n",
       "3 -0.010241  0.105007  0.559315  0.699541  0.322043  0.227814  0.080731   \n",
       "4 -0.035912  0.091688  0.013366 -0.232307 -0.049742  0.033557  0.401036   \n",
       "\n",
       "          7         8  \n",
       "0  0.187945 -0.623910  \n",
       "1  0.103387 -0.195173  \n",
       "2  0.956333 -0.270034  \n",
       "3  0.130034 -0.087403  \n",
       "4  0.387044 -0.788622  "
      ]
     },
     "execution_count": 81,
     "metadata": {},
     "output_type": "execute_result"
    }
   ],
   "source": [
    "# choose parameter = 9 as number of categories are 9\n",
    "svd = TruncatedSVD(9)\n",
    "normalizer = Normalizer(copy=False)\n",
    "lsa = make_pipeline(svd, normalizer)\n",
    "lsa_factors = lsa.fit_transform(X_train_tfidf_2)\n",
    "pd.DataFrame(lsa_factors).head()"
   ]
  },
  {
   "cell_type": "code",
   "execution_count": null,
   "metadata": {},
   "outputs": [],
   "source": []
  },
  {
   "cell_type": "code",
   "execution_count": null,
   "metadata": {},
   "outputs": [],
   "source": []
  },
  {
   "cell_type": "code",
   "execution_count": null,
   "metadata": {},
   "outputs": [],
   "source": []
  }
 ],
 "metadata": {
  "kernelspec": {
   "display_name": "Python 3",
   "language": "python",
   "name": "python3"
  },
  "language_info": {
   "codemirror_mode": {
    "name": "ipython",
    "version": 3
   },
   "file_extension": ".py",
   "mimetype": "text/x-python",
   "name": "python",
   "nbconvert_exporter": "python",
   "pygments_lexer": "ipython3",
   "version": "3.7.1"
  }
 },
 "nbformat": 4,
 "nbformat_minor": 2
}
