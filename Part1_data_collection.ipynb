{
 "cells": [
  {
   "cell_type": "markdown",
   "metadata": {},
   "source": [
    "## 1. Data Collection"
   ]
  },
  {
   "cell_type": "code",
   "execution_count": 3,
   "metadata": {},
   "outputs": [],
   "source": [
    "from selenium import webdriver\n",
    "import json\n",
    "import re\n",
    "import pandas as pd\n",
    "import os\n",
    "import urllib.request\n",
    "import time\n",
    "from selenium.webdriver.common.by import By\n",
    "from selenium.webdriver.support.ui import WebDriverWait\n",
    "from selenium.webdriver.support import expected_conditions as EC\n",
    "import matplotlib.pyplot as plt\n",
    "import cv2\n",
    "import numpy as np\n",
    "from IPython.core.display import HTML\n",
    "import glob\n",
    "import random\n",
    "import base64\n",
    "from PIL import Image\n",
    "from io import BytesIO\n",
    "import requests\n",
    "import matplotlib.image as mpimg\n",
    "from django.utils import encoding\n",
    "import pickle\n",
    "from lxml import html\n",
    "from fake_useragent import UserAgent\n",
    "ua = UserAgent()\n",
    "from selenium import webdriver\n",
    "import bs4\n",
    "import random\n",
    "from itertools import cycle\n",
    "from selenium.common.exceptions import NoSuchElementException"
   ]
  },
  {
   "cell_type": "markdown",
   "metadata": {},
   "source": [
    "### 1. News data from New York Times"
   ]
  },
  {
   "cell_type": "markdown",
   "metadata": {},
   "source": [
    "#### 1-1. Write function to scrap news data from website:"
   ]
  },
  {
   "cell_type": "markdown",
   "metadata": {},
   "source": [
    "For text analytics to be performed, collect news category, date of release, headline, one line summary from NY Times website. I have used selenium webdriver and xpath to scrap the data from period 2010-01-01 to 2019-04-30."
   ]
  },
  {
   "cell_type": "code",
   "execution_count": 6,
   "metadata": {},
   "outputs": [],
   "source": [
    "# Open NYT webpage by using Selenium Webdriver\n",
    "# get the path of ChromeDriverServer and open browser\n",
    "chrome_driver_path = r\"C:\\Users\\Natalie Kim\\Documents\\Python Scripts\\chromedriver_win32_74\\chromedriver.exe\"\n",
    "browser = webdriver.Chrome(chrome_driver_path)"
   ]
  },
  {
   "cell_type": "code",
   "execution_count": 869,
   "metadata": {},
   "outputs": [],
   "source": [
    "def get_news(start,end):\n",
    "    \"\"\"\n",
    "    \n",
    "    collect news category, headline, one-line summary and date of release into pandas Dataframe\n",
    "    Input period start and end date\n",
    "    \n",
    "    \"\"\"\n",
    "    # step1: open nytimes apple page using pre-determined ua header\n",
    "    # available user agent found at https://udger.com/resources/ua-list/browser-detail?browser=Chrome\n",
    "    page = 'https://www.nytimes.com/search?endDate='+end+'&query=apple&sort=best&startDate='+start\n",
    "    browser.get(page)\n",
    "    headers = {'User-Agent':'Mozilla/5.0 (Windows; U; Windows NT 5.1; en-US) AppleWebKit/534.14 (KHTML, like Gecko) Chrome/9.0.600.0 Safari/534.14'}\n",
    "    r = requests.get(page,headers=headers)\n",
    "    \n",
    "    # step2: Extend to the end of of news list by clicking \"show more\" repetitively\n",
    "    stop = 0\n",
    "    while stop == 0:\n",
    "        webElem = browser.find_element_by_xpath(\"//*/button[@type = 'button']\")\n",
    "        if stop == 0:\n",
    "            webElem.click()\n",
    "            time.sleep(7)\n",
    "            try:\n",
    "                webElem = browser.find_element_by_xpath(\"//*/button[@type = 'button']\")\n",
    "            except NoSuchElementException:\n",
    "                stop = 1\n",
    "                \n",
    "    # step3: obtain date, headline, content, category by xpath\n",
    "    doc = html.fromstring(browser.page_source)\n",
    "    xpath_date = '//*/li[@data-testid=\"search-bodega-result\"]/div/time/text()'\n",
    "    xpath_headline = '//*/li[@data-testid=\"search-bodega-result\"]/div/div/a/h4/text()'\n",
    "    xpath_no_p = '//*/li[@data-testid=\"search-bodega-result\"]/div/div/a[not(p)]'\n",
    "    x_path_all = '//*/li[@data-testid=\"search-bodega-result\"]/div/div/a'\n",
    "    \n",
    "    dates = doc.xpath(xpath_date)    \n",
    "    contents = [x.text for x in doc.xpath('//*/li[@data-testid=\"search-bodega-result\"]/div/div/a/p[position()<2]')]\n",
    "    categories = [x.text for x in doc.xpath('//*/li[@data-testid=\"search-bodega-result\"]/div/div/p')]\n",
    "    headlines = doc.xpath(xpath_headline)\n",
    "    all_path = doc.xpath(x_path_all)\n",
    "    no_p = doc.xpath(xpath_no_p)\n",
    "    to_exclude_index = [i for i in range(len(all_path)) if all_path[i] in no_p]\n",
    "    \n",
    "    dates = [dates[i] for i in range(len(dates)) if i not in to_exclude_index]\n",
    "    headlines = [headlines[i] for i in range(len(headlines)) if i not in to_exclude_index]\n",
    "    categories = [categories[i] for i in range(len(categories)) if i not in to_exclude_index]\n",
    "    Merged_content = [str(i) +', '+ str(j) for i, j in zip(headlines, contents)] \n",
    "    \n",
    "    # step4: convert it to dictionary and save/return Dataframe\n",
    "    data={\n",
    "    'DATE': dates,\n",
    "    'CATEGORIES': categories,\n",
    "    'TITLE': headlines,\n",
    "    'CONTENT': contents,\n",
    "    'ALL_CONTENT':Merged_content\n",
    "    }\n",
    "    df = pd.DataFrame(data)\n",
    "    \n",
    "    return df"
   ]
  },
  {
   "cell_type": "code",
   "execution_count": 765,
   "metadata": {},
   "outputs": [],
   "source": [
    "def save_as_csv(df,filename):\n",
    "    \"\"\"\n",
    "    save dataframe collected to csv file with filename provided as input\n",
    "    \"\"\"\n",
    "    df.to_csv(filename+'.txt', sep='\\t', encoding='utf-8')"
   ]
  },
  {
   "cell_type": "markdown",
   "metadata": {},
   "source": [
    "#### 1-2. collect data by selenium webdriver:"
   ]
  },
  {
   "cell_type": "markdown",
   "metadata": {},
   "source": [
    "I have divided period into sub period (six-month) for purpose of checking progress of data collection and ease of debugging. After collecting all data, merge it into one dataframe for the ease of analysis later."
   ]
  },
  {
   "cell_type": "code",
   "execution_count": 766,
   "metadata": {},
   "outputs": [
    {
     "data": {
      "text/html": [
       "<div>\n",
       "<style scoped>\n",
       "    .dataframe tbody tr th:only-of-type {\n",
       "        vertical-align: middle;\n",
       "    }\n",
       "\n",
       "    .dataframe tbody tr th {\n",
       "        vertical-align: top;\n",
       "    }\n",
       "\n",
       "    .dataframe thead th {\n",
       "        text-align: right;\n",
       "    }\n",
       "</style>\n",
       "<table border=\"1\" class=\"dataframe\">\n",
       "  <thead>\n",
       "    <tr style=\"text-align: right;\">\n",
       "      <th></th>\n",
       "      <th>DATE</th>\n",
       "      <th>CATEGORIES</th>\n",
       "      <th>TITLE</th>\n",
       "      <th>CONTENT</th>\n",
       "      <th>ALL_CONTENT</th>\n",
       "    </tr>\n",
       "  </thead>\n",
       "  <tbody>\n",
       "    <tr>\n",
       "      <th>0</th>\n",
       "      <td>May 1</td>\n",
       "      <td>Technology</td>\n",
       "      <td>Apple’s Plan to Buy $75 Billion of Its Stock F...</td>\n",
       "      <td>The company said it would add to its record re...</td>\n",
       "      <td>Apple’s Plan to Buy $75 Billion of Its Stock F...</td>\n",
       "    </tr>\n",
       "    <tr>\n",
       "      <th>1</th>\n",
       "      <td>April 7</td>\n",
       "      <td>Business</td>\n",
       "      <td>Scheme to Swap Fake iPhones Adds Up to $900,00...</td>\n",
       "      <td>Two college students in Oregon are accused of ...</td>\n",
       "      <td>Scheme to Swap Fake iPhones Adds Up to $900,00...</td>\n",
       "    </tr>\n",
       "    <tr>\n",
       "      <th>2</th>\n",
       "      <td>April 4</td>\n",
       "      <td>Opinion</td>\n",
       "      <td>The Incredible Shrinking Apple</td>\n",
       "      <td>Steve Jobs wanted to put a ding in the univers...</td>\n",
       "      <td>The Incredible Shrinking Apple, Steve Jobs wan...</td>\n",
       "    </tr>\n",
       "    <tr>\n",
       "      <th>3</th>\n",
       "      <td>April 3</td>\n",
       "      <td>Personal Tech</td>\n",
       "      <td>Apple AirPods Review: Perfect Earbuds, but The...</td>\n",
       "      <td>Sleek and convenient, Apple’s wireless earbuds...</td>\n",
       "      <td>Apple AirPods Review: Perfect Earbuds, but The...</td>\n",
       "    </tr>\n",
       "    <tr>\n",
       "      <th>4</th>\n",
       "      <td>March 27</td>\n",
       "      <td>Media</td>\n",
       "      <td>Hollywood Had Questions. Apple Didn’t Answer T...</td>\n",
       "      <td>The event at the Steve Jobs Theater was heavy ...</td>\n",
       "      <td>Hollywood Had Questions. Apple Didn’t Answer T...</td>\n",
       "    </tr>\n",
       "  </tbody>\n",
       "</table>\n",
       "</div>"
      ],
      "text/plain": [
       "       DATE     CATEGORIES                                              TITLE  \\\n",
       "0     May 1     Technology  Apple’s Plan to Buy $75 Billion of Its Stock F...   \n",
       "1   April 7       Business  Scheme to Swap Fake iPhones Adds Up to $900,00...   \n",
       "2   April 4        Opinion                     The Incredible Shrinking Apple   \n",
       "3   April 3  Personal Tech  Apple AirPods Review: Perfect Earbuds, but The...   \n",
       "4  March 27          Media  Hollywood Had Questions. Apple Didn’t Answer T...   \n",
       "\n",
       "                                             CONTENT  \\\n",
       "0  The company said it would add to its record re...   \n",
       "1  Two college students in Oregon are accused of ...   \n",
       "2  Steve Jobs wanted to put a ding in the univers...   \n",
       "3  Sleek and convenient, Apple’s wireless earbuds...   \n",
       "4  The event at the Steve Jobs Theater was heavy ...   \n",
       "\n",
       "                                         ALL_CONTENT  \n",
       "0  Apple’s Plan to Buy $75 Billion of Its Stock F...  \n",
       "1  Scheme to Swap Fake iPhones Adds Up to $900,00...  \n",
       "2  The Incredible Shrinking Apple, Steve Jobs wan...  \n",
       "3  Apple AirPods Review: Perfect Earbuds, but The...  \n",
       "4  Hollywood Had Questions. Apple Didn’t Answer T...  "
      ]
     },
     "execution_count": 766,
     "metadata": {},
     "output_type": "execute_result"
    }
   ],
   "source": [
    "h1_2019 = get_news('20190101','20190430')\n",
    "h1_2019.head()"
   ]
  },
  {
   "cell_type": "code",
   "execution_count": 931,
   "metadata": {},
   "outputs": [],
   "source": [
    "new_date = [date +\", 2019\" for date in h1_2019['DATE']]\n",
    "h1_2019['DATE'] = new_date"
   ]
  },
  {
   "cell_type": "code",
   "execution_count": 1022,
   "metadata": {},
   "outputs": [
    {
     "data": {
      "text/html": [
       "<div>\n",
       "<style scoped>\n",
       "    .dataframe tbody tr th:only-of-type {\n",
       "        vertical-align: middle;\n",
       "    }\n",
       "\n",
       "    .dataframe tbody tr th {\n",
       "        vertical-align: top;\n",
       "    }\n",
       "\n",
       "    .dataframe thead th {\n",
       "        text-align: right;\n",
       "    }\n",
       "</style>\n",
       "<table border=\"1\" class=\"dataframe\">\n",
       "  <thead>\n",
       "    <tr style=\"text-align: right;\">\n",
       "      <th></th>\n",
       "      <th>DATE</th>\n",
       "      <th>CATEGORIES</th>\n",
       "      <th>TITLE</th>\n",
       "      <th>CONTENT</th>\n",
       "      <th>ALL_CONTENT</th>\n",
       "    </tr>\n",
       "  </thead>\n",
       "  <tbody>\n",
       "    <tr>\n",
       "      <th>0</th>\n",
       "      <td>May 1, 2019</td>\n",
       "      <td>Technology</td>\n",
       "      <td>Apple’s Plan to Buy $75 Billion of Its Stock Fuels Spending Debate</td>\n",
       "      <td>The company said it would add to its record returns to shareholders, most likely fueling an intensifying debate over corporate spending.</td>\n",
       "      <td>Apple’s Plan to Buy $75 Billion of Its Stock Fuels Spending Debate, The company said it would add to its record returns to shareholders, most likely fueling an intensifying debate over corporate spending.</td>\n",
       "    </tr>\n",
       "    <tr>\n",
       "      <th>1</th>\n",
       "      <td>April 7, 2019</td>\n",
       "      <td>Business</td>\n",
       "      <td>Scheme to Swap Fake iPhones Adds Up to $900,000 Loss for Apple, Prosecutors Say</td>\n",
       "      <td>Two college students in Oregon are accused of tricking Apple into replacing nearly 1,500 counterfeit iPhones with genuine ones that were later sold.</td>\n",
       "      <td>Scheme to Swap Fake iPhones Adds Up to $900,000 Loss for Apple, Prosecutors Say, Two college students in Oregon are accused of tricking Apple into replacing nearly 1,500 counterfeit iPhones with genuine ones that were later sold.</td>\n",
       "    </tr>\n",
       "    <tr>\n",
       "      <th>2</th>\n",
       "      <td>April 4, 2019</td>\n",
       "      <td>Opinion</td>\n",
       "      <td>The Incredible Shrinking Apple</td>\n",
       "      <td>Steve Jobs wanted to put a ding in the universe. Today, Apple wants to ding your pocketbook.</td>\n",
       "      <td>The Incredible Shrinking Apple, Steve Jobs wanted to put a ding in the universe. Today, Apple wants to ding your pocketbook.</td>\n",
       "    </tr>\n",
       "    <tr>\n",
       "      <th>3</th>\n",
       "      <td>April 3, 2019</td>\n",
       "      <td>Personal Tech</td>\n",
       "      <td>Apple AirPods Review: Perfect Earbuds, but They Don’t Last</td>\n",
       "      <td>Sleek and convenient, Apple’s wireless earbuds are an engineering marvel. One problem: They are difficult and expensive to maintain.</td>\n",
       "      <td>Apple AirPods Review: Perfect Earbuds, but They Don’t Last, Sleek and convenient, Apple’s wireless earbuds are an engineering marvel. One problem: They are difficult and expensive to maintain.</td>\n",
       "    </tr>\n",
       "    <tr>\n",
       "      <th>4</th>\n",
       "      <td>March 27, 2019</td>\n",
       "      <td>Media</td>\n",
       "      <td>Hollywood Had Questions. Apple Didn’t Answer Them.</td>\n",
       "      <td>The event at the Steve Jobs Theater was heavy on star power and light on specifics. The Los Angeles crowd buzzed more about a new credit card than anything else.</td>\n",
       "      <td>Hollywood Had Questions. Apple Didn’t Answer Them., The event at the Steve Jobs Theater was heavy on star power and light on specifics. The Los Angeles crowd buzzed more about a new credit card than anything else.</td>\n",
       "    </tr>\n",
       "  </tbody>\n",
       "</table>\n",
       "</div>"
      ],
      "text/plain": [
       "             DATE     CATEGORIES  \\\n",
       "0  May 1, 2019     Technology      \n",
       "1  April 7, 2019   Business        \n",
       "2  April 4, 2019   Opinion         \n",
       "3  April 3, 2019   Personal Tech   \n",
       "4  March 27, 2019  Media           \n",
       "\n",
       "                                                                             TITLE  \\\n",
       "0  Apple’s Plan to Buy $75 Billion of Its Stock Fuels Spending Debate                \n",
       "1  Scheme to Swap Fake iPhones Adds Up to $900,000 Loss for Apple, Prosecutors Say   \n",
       "2  The Incredible Shrinking Apple                                                    \n",
       "3  Apple AirPods Review: Perfect Earbuds, but They Don’t Last                        \n",
       "4  Hollywood Had Questions. Apple Didn’t Answer Them.                                \n",
       "\n",
       "                                                                                                                                                             CONTENT  \\\n",
       "0  The company said it would add to its record returns to shareholders, most likely fueling an intensifying debate over corporate spending.                            \n",
       "1  Two college students in Oregon are accused of tricking Apple into replacing nearly 1,500 counterfeit iPhones with genuine ones that were later sold.                \n",
       "2  Steve Jobs wanted to put a ding in the universe. Today, Apple wants to ding your pocketbook.                                                                        \n",
       "3  Sleek and convenient, Apple’s wireless earbuds are an engineering marvel. One problem: They are difficult and expensive to maintain.                                \n",
       "4  The event at the Steve Jobs Theater was heavy on star power and light on specifics. The Los Angeles crowd buzzed more about a new credit card than anything else.   \n",
       "\n",
       "                                                                                                                                                                                                                             ALL_CONTENT  \n",
       "0  Apple’s Plan to Buy $75 Billion of Its Stock Fuels Spending Debate, The company said it would add to its record returns to shareholders, most likely fueling an intensifying debate over corporate spending.                           \n",
       "1  Scheme to Swap Fake iPhones Adds Up to $900,000 Loss for Apple, Prosecutors Say, Two college students in Oregon are accused of tricking Apple into replacing nearly 1,500 counterfeit iPhones with genuine ones that were later sold.  \n",
       "2  The Incredible Shrinking Apple, Steve Jobs wanted to put a ding in the universe. Today, Apple wants to ding your pocketbook.                                                                                                           \n",
       "3  Apple AirPods Review: Perfect Earbuds, but They Don’t Last, Sleek and convenient, Apple’s wireless earbuds are an engineering marvel. One problem: They are difficult and expensive to maintain.                                       \n",
       "4  Hollywood Had Questions. Apple Didn’t Answer Them., The event at the Steve Jobs Theater was heavy on star power and light on specifics. The Los Angeles crowd buzzed more about a new credit card than anything else.                  "
      ]
     },
     "execution_count": 1022,
     "metadata": {},
     "output_type": "execute_result"
    }
   ],
   "source": [
    "h1_2019.head()"
   ]
  },
  {
   "cell_type": "code",
   "execution_count": 767,
   "metadata": {},
   "outputs": [],
   "source": [
    "save_as_csv(h1_2019,'h1_2019')"
   ]
  },
  {
   "cell_type": "code",
   "execution_count": 768,
   "metadata": {},
   "outputs": [],
   "source": [
    "h2_2018 = get_news('20180701','20181231')\n",
    "save_as_csv(h2_2018,'h2_2018')"
   ]
  },
  {
   "cell_type": "code",
   "execution_count": 963,
   "metadata": {},
   "outputs": [],
   "source": [
    "new_date_2018 = [date +\", 2018\" if date == 'Jan. 1' else date for date in h2_2018['DATE'] ]\n",
    "h2_2018['DATE'] = new_date_2018"
   ]
  },
  {
   "cell_type": "code",
   "execution_count": null,
   "metadata": {},
   "outputs": [],
   "source": [
    "h1_2018 = get_news('20180101','20180630')\n",
    "save_as_csv(h1_2018,'h1_2018')"
   ]
  },
  {
   "cell_type": "code",
   "execution_count": 797,
   "metadata": {},
   "outputs": [],
   "source": [
    "h2_2017 = get_news('20170701','20171231')\n",
    "save_as_csv(h2_2017,'h2_2017')"
   ]
  },
  {
   "cell_type": "code",
   "execution_count": null,
   "metadata": {},
   "outputs": [],
   "source": [
    "h1_2017 = get_news('20170101','20170630')\n",
    "save_as_csv(h1_2017,'h1_2017')"
   ]
  },
  {
   "cell_type": "code",
   "execution_count": 839,
   "metadata": {},
   "outputs": [],
   "source": [
    "h2_2016 = get_news('20160701','20161231')\n",
    "save_as_csv(h2_2016,'h2_2016')"
   ]
  },
  {
   "cell_type": "code",
   "execution_count": 840,
   "metadata": {},
   "outputs": [],
   "source": [
    "h1_2016 = get_news('20160101','20160630')\n",
    "save_as_csv(h1_2016,'h1_2016')"
   ]
  },
  {
   "cell_type": "code",
   "execution_count": 841,
   "metadata": {},
   "outputs": [],
   "source": [
    "h2_2015 = get_news('20150701','20151231')\n",
    "save_as_csv(h2_2015,'h2_2015')"
   ]
  },
  {
   "cell_type": "code",
   "execution_count": 842,
   "metadata": {},
   "outputs": [],
   "source": [
    "h1_2015 = get_news('20150101','20150630')\n",
    "save_as_csv(h1_2015,'h1_2015')"
   ]
  },
  {
   "cell_type": "code",
   "execution_count": 843,
   "metadata": {},
   "outputs": [],
   "source": [
    "h2_2014 = get_news('20140701','20141231')\n",
    "save_as_csv(h2_2014,'h2_2014')"
   ]
  },
  {
   "cell_type": "code",
   "execution_count": null,
   "metadata": {},
   "outputs": [],
   "source": [
    "h1_2014 = get_news('20140101','20140630')\n",
    "save_as_csv(h1_2014,'h1_2014')"
   ]
  },
  {
   "cell_type": "code",
   "execution_count": 870,
   "metadata": {},
   "outputs": [],
   "source": [
    "h2_2013 = get_news('20130701','20131231')\n",
    "save_as_csv(h2_2013,'h2_2013')"
   ]
  },
  {
   "cell_type": "code",
   "execution_count": 871,
   "metadata": {},
   "outputs": [],
   "source": [
    "h1_2013 = get_news('20130101','20130630')\n",
    "save_as_csv(h1_2013,'h1_2013')"
   ]
  },
  {
   "cell_type": "code",
   "execution_count": 872,
   "metadata": {},
   "outputs": [],
   "source": [
    "h2_2012 = get_news('20120701','20121231')\n",
    "save_as_csv(h2_2012,'h2_2012')"
   ]
  },
  {
   "cell_type": "code",
   "execution_count": 873,
   "metadata": {},
   "outputs": [],
   "source": [
    "h1_2012 = get_news('20120101','20120630')\n",
    "save_as_csv(h1_2012,'h1_2012')"
   ]
  },
  {
   "cell_type": "code",
   "execution_count": 874,
   "metadata": {},
   "outputs": [],
   "source": [
    "h2_2011 = get_news('20110701','20111231')\n",
    "save_as_csv(h2_2011,'h2_2011')"
   ]
  },
  {
   "cell_type": "code",
   "execution_count": 875,
   "metadata": {},
   "outputs": [],
   "source": [
    "h1_2011 = get_news('20110101','20110630')\n",
    "save_as_csv(h1_2011,'h1_2011')"
   ]
  },
  {
   "cell_type": "code",
   "execution_count": 877,
   "metadata": {},
   "outputs": [],
   "source": [
    "h2_2010 = get_news('20100701','20101231')\n",
    "save_as_csv(h2_2010,'h2_2010')"
   ]
  },
  {
   "cell_type": "code",
   "execution_count": 878,
   "metadata": {},
   "outputs": [],
   "source": [
    "h1_2010 = get_news('20100101','20100630')\n",
    "save_as_csv(h1_2010,'h1_2010')"
   ]
  },
  {
   "cell_type": "code",
   "execution_count": 926,
   "metadata": {},
   "outputs": [
    {
     "data": {
      "text/html": [
       "<div>\n",
       "<style scoped>\n",
       "    .dataframe tbody tr th:only-of-type {\n",
       "        vertical-align: middle;\n",
       "    }\n",
       "\n",
       "    .dataframe tbody tr th {\n",
       "        vertical-align: top;\n",
       "    }\n",
       "\n",
       "    .dataframe thead th {\n",
       "        text-align: right;\n",
       "    }\n",
       "</style>\n",
       "<table border=\"1\" class=\"dataframe\">\n",
       "  <thead>\n",
       "    <tr style=\"text-align: right;\">\n",
       "      <th></th>\n",
       "      <th>DATE</th>\n",
       "      <th>CATEGORIES</th>\n",
       "      <th>TITLE</th>\n",
       "      <th>CONTENT</th>\n",
       "      <th>ALL_CONTENT</th>\n",
       "    </tr>\n",
       "  </thead>\n",
       "  <tbody>\n",
       "    <tr>\n",
       "      <th>0</th>\n",
       "      <td>June 29, 2010</td>\n",
       "      <td>Technology</td>\n",
       "      <td>Apple Sells 1.7 Million New iPhones in Three Days</td>\n",
       "      <td>Apple said the release of the iPhone 4 was its most successful product introduction yet.</td>\n",
       "      <td>Apple Sells 1.7 Million New iPhones in Three Days, Apple said the release of the iPhone 4 was its most successful product introduction yet.</td>\n",
       "    </tr>\n",
       "    <tr>\n",
       "      <th>1</th>\n",
       "      <td>June 24, 2010</td>\n",
       "      <td>Technology</td>\n",
       "      <td>Is Apple a Victim of Sour Grapes?</td>\n",
       "      <td>Once dismissed by larger companies, Apple is now viewed by some as an anticompetitive industry bully.</td>\n",
       "      <td>Is Apple a Victim of Sour Grapes?, Once dismissed by larger companies, Apple is now viewed by some as an anticompetitive industry bully.</td>\n",
       "    </tr>\n",
       "    <tr>\n",
       "      <th>2</th>\n",
       "      <td>June 29, 2010</td>\n",
       "      <td>Technology</td>\n",
       "      <td>Germany Asks Apple About iPhone’s Data-Gathering</td>\n",
       "      <td>Like Google and Facebook, Apple has been confronted with Germany’s privacy laws, among Europe’s stiffest.</td>\n",
       "      <td>Germany Asks Apple About iPhone’s Data-Gathering, Like Google and Facebook, Apple has been confronted with Germany’s privacy laws, among Europe’s stiffest.</td>\n",
       "    </tr>\n",
       "    <tr>\n",
       "      <th>3</th>\n",
       "      <td>June 24, 2010</td>\n",
       "      <td>Technology</td>\n",
       "      <td>Class Action Against Apple and AT&amp;T Is Amended</td>\n",
       "      <td>A lawsuit filed against AT&amp;T and Apple over the elimination of the iPad 3G unlimited data plan was amended and refiled as a class action lawsuit on Wednesday in a California district court.</td>\n",
       "      <td>Class Action Against Apple and AT&amp;T Is Amended, A lawsuit filed against AT&amp;T and Apple over the elimination of the iPad 3G unlimited data plan was amended and refiled as a class action lawsuit on Wednesday in a California district court.</td>\n",
       "    </tr>\n",
       "    <tr>\n",
       "      <th>4</th>\n",
       "      <td>June 23, 2010</td>\n",
       "      <td>Personal Tech</td>\n",
       "      <td>New iPhone Arrives; Rivals, Beware</td>\n",
       "      <td>The iPhone 4 is slimmer, with an improved screen and audio. But it was a hit before the public knew that.</td>\n",
       "      <td>New iPhone Arrives; Rivals, Beware, The iPhone 4 is slimmer, with an improved screen and audio. But it was a hit before the public knew that.</td>\n",
       "    </tr>\n",
       "  </tbody>\n",
       "</table>\n",
       "</div>"
      ],
      "text/plain": [
       "            DATE     CATEGORIES  \\\n",
       "0  June 29, 2010  Technology      \n",
       "1  June 24, 2010  Technology      \n",
       "2  June 29, 2010  Technology      \n",
       "3  June 24, 2010  Technology      \n",
       "4  June 23, 2010  Personal Tech   \n",
       "\n",
       "                                               TITLE  \\\n",
       "0  Apple Sells 1.7 Million New iPhones in Three Days   \n",
       "1  Is Apple a Victim of Sour Grapes?                   \n",
       "2  Germany Asks Apple About iPhone’s Data-Gathering    \n",
       "3  Class Action Against Apple and AT&T Is Amended      \n",
       "4  New iPhone Arrives; Rivals, Beware                  \n",
       "\n",
       "                                                                                                                                                                                         CONTENT  \\\n",
       "0  Apple said the release of the iPhone 4 was its most successful product introduction yet.                                                                                                        \n",
       "1  Once dismissed by larger companies, Apple is now viewed by some as an anticompetitive industry bully.                                                                                           \n",
       "2  Like Google and Facebook, Apple has been confronted with Germany’s privacy laws, among Europe’s stiffest.                                                                                       \n",
       "3  A lawsuit filed against AT&T and Apple over the elimination of the iPad 3G unlimited data plan was amended and refiled as a class action lawsuit on Wednesday in a California district court.   \n",
       "4  The iPhone 4 is slimmer, with an improved screen and audio. But it was a hit before the public knew that.                                                                                       \n",
       "\n",
       "                                                                                                                                                                                                                                     ALL_CONTENT  \n",
       "0  Apple Sells 1.7 Million New iPhones in Three Days, Apple said the release of the iPhone 4 was its most successful product introduction yet.                                                                                                    \n",
       "1  Is Apple a Victim of Sour Grapes?, Once dismissed by larger companies, Apple is now viewed by some as an anticompetitive industry bully.                                                                                                       \n",
       "2  Germany Asks Apple About iPhone’s Data-Gathering, Like Google and Facebook, Apple has been confronted with Germany’s privacy laws, among Europe’s stiffest.                                                                                    \n",
       "3  Class Action Against Apple and AT&T Is Amended, A lawsuit filed against AT&T and Apple over the elimination of the iPad 3G unlimited data plan was amended and refiled as a class action lawsuit on Wednesday in a California district court.  \n",
       "4  New iPhone Arrives; Rivals, Beware, The iPhone 4 is slimmer, with an improved screen and audio. But it was a hit before the public knew that.                                                                                                  "
      ]
     },
     "execution_count": 926,
     "metadata": {},
     "output_type": "execute_result"
    }
   ],
   "source": [
    "h1_2010.head()"
   ]
  },
  {
   "cell_type": "markdown",
   "metadata": {},
   "source": [
    "#### 1-3. Data cleaning:"
   ]
  },
  {
   "cell_type": "markdown",
   "metadata": {},
   "source": [
    "Format date colume into DD/MM/YYYY for consistency and further analysis. In terms of content, I have decided to only include: ['Technology','Business','Business Computing','Companies','Economy','Global Business','International Business','Internet','Personal Tech','Stocks and Bonds']\n",
    "categories to only reflect news that are relevant to Apple stock."
   ]
  },
  {
   "cell_type": "markdown",
   "metadata": {},
   "source": [
    "Firstly, merge all dataframe into one."
   ]
  },
  {
   "cell_type": "code",
   "execution_count": 992,
   "metadata": {},
   "outputs": [
    {
     "name": "stderr",
     "output_type": "stream",
     "text": [
      "C:\\Users\\Natalie Kim\\Anaconda3\\lib\\site-packages\\ipykernel_launcher.py:4: FutureWarning: Sorting because non-concatenation axis is not aligned. A future version\n",
      "of pandas will change to not sort by default.\n",
      "\n",
      "To accept the future behavior, pass 'sort=False'.\n",
      "\n",
      "To retain the current behavior and silence the warning, pass 'sort=True'.\n",
      "\n",
      "  after removing the cwd from sys.path.\n"
     ]
    }
   ],
   "source": [
    "# merge all dataframe into one\n",
    "pdList = [h1_2019, h1_2018, h2_2018,h1_2017, h2_2017,h1_2016, h2_2016,h1_2015, h2_2015,\n",
    "          h1_2014, h2_2014,h1_2013, h2_2013,h1_2012, h2_2012,h1_2011, h2_2011,h1_2010, h2_2010]\n",
    "merged_df = pd.concat(pdList)\n",
    "save_as_csv(merged_df,'merged_all_period') #for backup"
   ]
  },
  {
   "cell_type": "code",
   "execution_count": 1021,
   "metadata": {},
   "outputs": [
    {
     "data": {
      "text/html": [
       "<div>\n",
       "<style scoped>\n",
       "    .dataframe tbody tr th:only-of-type {\n",
       "        vertical-align: middle;\n",
       "    }\n",
       "\n",
       "    .dataframe tbody tr th {\n",
       "        vertical-align: top;\n",
       "    }\n",
       "\n",
       "    .dataframe thead th {\n",
       "        text-align: right;\n",
       "    }\n",
       "</style>\n",
       "<table border=\"1\" class=\"dataframe\">\n",
       "  <thead>\n",
       "    <tr style=\"text-align: right;\">\n",
       "      <th></th>\n",
       "      <th>ALL_CONTENT</th>\n",
       "      <th>CATEGORIES</th>\n",
       "      <th>CONTENT</th>\n",
       "      <th>DATE</th>\n",
       "      <th>TITLE</th>\n",
       "    </tr>\n",
       "  </thead>\n",
       "  <tbody>\n",
       "    <tr>\n",
       "      <th>0</th>\n",
       "      <td>Apple’s Plan to Buy $75 Billion of Its Stock Fuels Spending Debate, The company said it would add to its record returns to shareholders, most likely fueling an intensifying debate over corporate spending.</td>\n",
       "      <td>Technology</td>\n",
       "      <td>The company said it would add to its record returns to shareholders, most likely fueling an intensifying debate over corporate spending.</td>\n",
       "      <td>May 1, 2019</td>\n",
       "      <td>Apple’s Plan to Buy $75 Billion of Its Stock Fuels Spending Debate</td>\n",
       "    </tr>\n",
       "    <tr>\n",
       "      <th>1</th>\n",
       "      <td>Scheme to Swap Fake iPhones Adds Up to $900,000 Loss for Apple, Prosecutors Say, Two college students in Oregon are accused of tricking Apple into replacing nearly 1,500 counterfeit iPhones with genuine ones that were later sold.</td>\n",
       "      <td>Business</td>\n",
       "      <td>Two college students in Oregon are accused of tricking Apple into replacing nearly 1,500 counterfeit iPhones with genuine ones that were later sold.</td>\n",
       "      <td>April 7, 2019</td>\n",
       "      <td>Scheme to Swap Fake iPhones Adds Up to $900,000 Loss for Apple, Prosecutors Say</td>\n",
       "    </tr>\n",
       "    <tr>\n",
       "      <th>2</th>\n",
       "      <td>The Incredible Shrinking Apple, Steve Jobs wanted to put a ding in the universe. Today, Apple wants to ding your pocketbook.</td>\n",
       "      <td>Opinion</td>\n",
       "      <td>Steve Jobs wanted to put a ding in the universe. Today, Apple wants to ding your pocketbook.</td>\n",
       "      <td>April 4, 2019</td>\n",
       "      <td>The Incredible Shrinking Apple</td>\n",
       "    </tr>\n",
       "    <tr>\n",
       "      <th>3</th>\n",
       "      <td>Apple AirPods Review: Perfect Earbuds, but They Don’t Last, Sleek and convenient, Apple’s wireless earbuds are an engineering marvel. One problem: They are difficult and expensive to maintain.</td>\n",
       "      <td>Personal Tech</td>\n",
       "      <td>Sleek and convenient, Apple’s wireless earbuds are an engineering marvel. One problem: They are difficult and expensive to maintain.</td>\n",
       "      <td>April 3, 2019</td>\n",
       "      <td>Apple AirPods Review: Perfect Earbuds, but They Don’t Last</td>\n",
       "    </tr>\n",
       "    <tr>\n",
       "      <th>4</th>\n",
       "      <td>Hollywood Had Questions. Apple Didn’t Answer Them., The event at the Steve Jobs Theater was heavy on star power and light on specifics. The Los Angeles crowd buzzed more about a new credit card than anything else.</td>\n",
       "      <td>Media</td>\n",
       "      <td>The event at the Steve Jobs Theater was heavy on star power and light on specifics. The Los Angeles crowd buzzed more about a new credit card than anything else.</td>\n",
       "      <td>March 27, 2019</td>\n",
       "      <td>Hollywood Had Questions. Apple Didn’t Answer Them.</td>\n",
       "    </tr>\n",
       "  </tbody>\n",
       "</table>\n",
       "</div>"
      ],
      "text/plain": [
       "                                                                                                                                                                                                                             ALL_CONTENT  \\\n",
       "0  Apple’s Plan to Buy $75 Billion of Its Stock Fuels Spending Debate, The company said it would add to its record returns to shareholders, most likely fueling an intensifying debate over corporate spending.                            \n",
       "1  Scheme to Swap Fake iPhones Adds Up to $900,000 Loss for Apple, Prosecutors Say, Two college students in Oregon are accused of tricking Apple into replacing nearly 1,500 counterfeit iPhones with genuine ones that were later sold.   \n",
       "2  The Incredible Shrinking Apple, Steve Jobs wanted to put a ding in the universe. Today, Apple wants to ding your pocketbook.                                                                                                            \n",
       "3  Apple AirPods Review: Perfect Earbuds, but They Don’t Last, Sleek and convenient, Apple’s wireless earbuds are an engineering marvel. One problem: They are difficult and expensive to maintain.                                        \n",
       "4  Hollywood Had Questions. Apple Didn’t Answer Them., The event at the Steve Jobs Theater was heavy on star power and light on specifics. The Los Angeles crowd buzzed more about a new credit card than anything else.                   \n",
       "\n",
       "      CATEGORIES  \\\n",
       "0  Technology      \n",
       "1  Business        \n",
       "2  Opinion         \n",
       "3  Personal Tech   \n",
       "4  Media           \n",
       "\n",
       "                                                                                                                                                             CONTENT  \\\n",
       "0  The company said it would add to its record returns to shareholders, most likely fueling an intensifying debate over corporate spending.                            \n",
       "1  Two college students in Oregon are accused of tricking Apple into replacing nearly 1,500 counterfeit iPhones with genuine ones that were later sold.                \n",
       "2  Steve Jobs wanted to put a ding in the universe. Today, Apple wants to ding your pocketbook.                                                                        \n",
       "3  Sleek and convenient, Apple’s wireless earbuds are an engineering marvel. One problem: They are difficult and expensive to maintain.                                \n",
       "4  The event at the Steve Jobs Theater was heavy on star power and light on specifics. The Los Angeles crowd buzzed more about a new credit card than anything else.   \n",
       "\n",
       "             DATE  \\\n",
       "0  May 1, 2019      \n",
       "1  April 7, 2019    \n",
       "2  April 4, 2019    \n",
       "3  April 3, 2019    \n",
       "4  March 27, 2019   \n",
       "\n",
       "                                                                             TITLE  \n",
       "0  Apple’s Plan to Buy $75 Billion of Its Stock Fuels Spending Debate               \n",
       "1  Scheme to Swap Fake iPhones Adds Up to $900,000 Loss for Apple, Prosecutors Say  \n",
       "2  The Incredible Shrinking Apple                                                   \n",
       "3  Apple AirPods Review: Perfect Earbuds, but They Don’t Last                       \n",
       "4  Hollywood Had Questions. Apple Didn’t Answer Them.                               "
      ]
     },
     "execution_count": 1021,
     "metadata": {},
     "output_type": "execute_result"
    }
   ],
   "source": [
    "new_merged_df = merged_df[merged_df.DATE != 'Feb. 14']\n",
    "new_merged_df.head()"
   ]
  },
  {
   "cell_type": "markdown",
   "metadata": {},
   "source": [
    "Second, select only relevant news category for analysis. As I will be analyzing on scope of apple's finanacials and macroeconomic/global economy,only include specific sub-categories among 161 categories."
   ]
  },
  {
   "cell_type": "code",
   "execution_count": 12,
   "metadata": {},
   "outputs": [],
   "source": [
    "#formatting\n",
    "pd.set_option('display.max_colwidth', -1)"
   ]
  },
  {
   "cell_type": "code",
   "execution_count": 1011,
   "metadata": {},
   "outputs": [
    {
     "data": {
      "text/plain": [
       "161"
      ]
     },
     "execution_count": 1011,
     "metadata": {},
     "output_type": "execute_result"
    }
   ],
   "source": [
    "len(set(new_merged_df['CATEGORIES']))"
   ]
  },
  {
   "cell_type": "code",
   "execution_count": 1012,
   "metadata": {},
   "outputs": [
    {
     "data": {
      "text/html": [
       "<div>\n",
       "<style scoped>\n",
       "    .dataframe tbody tr th:only-of-type {\n",
       "        vertical-align: middle;\n",
       "    }\n",
       "\n",
       "    .dataframe tbody tr th {\n",
       "        vertical-align: top;\n",
       "    }\n",
       "\n",
       "    .dataframe thead th {\n",
       "        text-align: right;\n",
       "    }\n",
       "</style>\n",
       "<table border=\"1\" class=\"dataframe\">\n",
       "  <thead>\n",
       "    <tr style=\"text-align: right;\">\n",
       "      <th></th>\n",
       "      <th>ALL_CONTENT</th>\n",
       "      <th>CATEGORIES</th>\n",
       "      <th>CONTENT</th>\n",
       "      <th>DATE</th>\n",
       "      <th>TITLE</th>\n",
       "    </tr>\n",
       "  </thead>\n",
       "  <tbody>\n",
       "    <tr>\n",
       "      <th>0</th>\n",
       "      <td>Apple’s Plan to Buy $75 Billion of Its Stock Fuels Spending Debate, The company said it would add to its record returns to shareholders, most likely fueling an intensifying debate over corporate spending.</td>\n",
       "      <td>Technology</td>\n",
       "      <td>The company said it would add to its record returns to shareholders, most likely fueling an intensifying debate over corporate spending.</td>\n",
       "      <td>May 1, 2019</td>\n",
       "      <td>Apple’s Plan to Buy $75 Billion of Its Stock Fuels Spending Debate</td>\n",
       "    </tr>\n",
       "    <tr>\n",
       "      <th>1</th>\n",
       "      <td>Scheme to Swap Fake iPhones Adds Up to $900,000 Loss for Apple, Prosecutors Say, Two college students in Oregon are accused of tricking Apple into replacing nearly 1,500 counterfeit iPhones with genuine ones that were later sold.</td>\n",
       "      <td>Business</td>\n",
       "      <td>Two college students in Oregon are accused of tricking Apple into replacing nearly 1,500 counterfeit iPhones with genuine ones that were later sold.</td>\n",
       "      <td>April 7, 2019</td>\n",
       "      <td>Scheme to Swap Fake iPhones Adds Up to $900,000 Loss for Apple, Prosecutors Say</td>\n",
       "    </tr>\n",
       "    <tr>\n",
       "      <th>3</th>\n",
       "      <td>Apple AirPods Review: Perfect Earbuds, but They Don’t Last, Sleek and convenient, Apple’s wireless earbuds are an engineering marvel. One problem: They are difficult and expensive to maintain.</td>\n",
       "      <td>Personal Tech</td>\n",
       "      <td>Sleek and convenient, Apple’s wireless earbuds are an engineering marvel. One problem: They are difficult and expensive to maintain.</td>\n",
       "      <td>April 3, 2019</td>\n",
       "      <td>Apple AirPods Review: Perfect Earbuds, but They Don’t Last</td>\n",
       "    </tr>\n",
       "    <tr>\n",
       "      <th>6</th>\n",
       "      <td>Apple Unveils Video Service With Celebrity Parade but Few Details, The iPhone maker is partnering with Hollywood heavyweights and publishers to provide broad new services to its users.</td>\n",
       "      <td>Technology</td>\n",
       "      <td>The iPhone maker is partnering with Hollywood heavyweights and publishers to provide broad new services to its users.</td>\n",
       "      <td>March 26, 2019</td>\n",
       "      <td>Apple Unveils Video Service With Celebrity Parade but Few Details</td>\n",
       "    </tr>\n",
       "    <tr>\n",
       "      <th>8</th>\n",
       "      <td>Apple Cracks Down on Apps That Fight iPhone Addiction, Last year, with much fanfare, the tech giant unveiled a screen-time tracker of its own. Then it quietly began purging competitors from its store.</td>\n",
       "      <td>Technology</td>\n",
       "      <td>Last year, with much fanfare, the tech giant unveiled a screen-time tracker of its own. Then it quietly began purging competitors from its store.</td>\n",
       "      <td>April 27, 2019</td>\n",
       "      <td>Apple Cracks Down on Apps That Fight iPhone Addiction</td>\n",
       "    </tr>\n",
       "  </tbody>\n",
       "</table>\n",
       "</div>"
      ],
      "text/plain": [
       "                                                                                                                                                                                                                             ALL_CONTENT  \\\n",
       "0  Apple’s Plan to Buy $75 Billion of Its Stock Fuels Spending Debate, The company said it would add to its record returns to shareholders, most likely fueling an intensifying debate over corporate spending.                            \n",
       "1  Scheme to Swap Fake iPhones Adds Up to $900,000 Loss for Apple, Prosecutors Say, Two college students in Oregon are accused of tricking Apple into replacing nearly 1,500 counterfeit iPhones with genuine ones that were later sold.   \n",
       "3  Apple AirPods Review: Perfect Earbuds, but They Don’t Last, Sleek and convenient, Apple’s wireless earbuds are an engineering marvel. One problem: They are difficult and expensive to maintain.                                        \n",
       "6  Apple Unveils Video Service With Celebrity Parade but Few Details, The iPhone maker is partnering with Hollywood heavyweights and publishers to provide broad new services to its users.                                                \n",
       "8  Apple Cracks Down on Apps That Fight iPhone Addiction, Last year, with much fanfare, the tech giant unveiled a screen-time tracker of its own. Then it quietly began purging competitors from its store.                                \n",
       "\n",
       "      CATEGORIES  \\\n",
       "0  Technology      \n",
       "1  Business        \n",
       "3  Personal Tech   \n",
       "6  Technology      \n",
       "8  Technology      \n",
       "\n",
       "                                                                                                                                                CONTENT  \\\n",
       "0  The company said it would add to its record returns to shareholders, most likely fueling an intensifying debate over corporate spending.               \n",
       "1  Two college students in Oregon are accused of tricking Apple into replacing nearly 1,500 counterfeit iPhones with genuine ones that were later sold.   \n",
       "3  Sleek and convenient, Apple’s wireless earbuds are an engineering marvel. One problem: They are difficult and expensive to maintain.                   \n",
       "6  The iPhone maker is partnering with Hollywood heavyweights and publishers to provide broad new services to its users.                                  \n",
       "8  Last year, with much fanfare, the tech giant unveiled a screen-time tracker of its own. Then it quietly began purging competitors from its store.      \n",
       "\n",
       "             DATE  \\\n",
       "0  May 1, 2019      \n",
       "1  April 7, 2019    \n",
       "3  April 3, 2019    \n",
       "6  March 26, 2019   \n",
       "8  April 27, 2019   \n",
       "\n",
       "                                                                             TITLE  \n",
       "0  Apple’s Plan to Buy $75 Billion of Its Stock Fuels Spending Debate               \n",
       "1  Scheme to Swap Fake iPhones Adds Up to $900,000 Loss for Apple, Prosecutors Say  \n",
       "3  Apple AirPods Review: Perfect Earbuds, but They Don’t Last                       \n",
       "6  Apple Unveils Video Service With Celebrity Parade but Few Details                \n",
       "8  Apple Cracks Down on Apps That Fight iPhone Addiction                            "
      ]
     },
     "execution_count": 1012,
     "metadata": {},
     "output_type": "execute_result"
    }
   ],
   "source": [
    "selected_categories = ['Technology','Business','Business Computing','Companies','Economy','Global Business','International Business','Internet','Personal Tech','Stocks and Bonds']\n",
    "sub_df = new_merged_df[new_merged_df['CATEGORIES'].isin(selected_categories)]\n",
    "sub_df.head()"
   ]
  },
  {
   "cell_type": "markdown",
   "metadata": {},
   "source": [
    "Third, sort out date formatting. Convert the current format to DD/MM/YYYY for consistency and ease of further analysis."
   ]
  },
  {
   "cell_type": "code",
   "execution_count": 1013,
   "metadata": {},
   "outputs": [],
   "source": [
    "converted_date = []\n",
    "fail = []\n",
    "exl_month = ['March', 'April', 'May', 'June', 'July']\n",
    "\n",
    "for date in sub_df['DATE']:\n",
    "    try:\n",
    "        if any(month in date for month in exl_month):\n",
    "            dateTime = datetime.datetime.strptime(date, \"%B %d, %Y\")\n",
    "            converted_date.append(dateTime.strftime('%d/%m/%Y'))\n",
    "        elif 'Sept' in date:\n",
    "            new = date.replace(\"Sept\", \"Sep\")\n",
    "            dateTime = datetime.datetime.strptime(new, \"%b. %d, %Y\")\n",
    "            converted_date.append(dateTime.strftime('%d/%m/%Y')) \n",
    "        else:\n",
    "            dateTime = datetime.datetime.strptime(date, \"%b. %d, %Y\")\n",
    "            converted_date.append(dateTime.strftime('%d/%m/%Y'))\n",
    "    except:\n",
    "        fail.append(date)"
   ]
  },
  {
   "cell_type": "code",
   "execution_count": 1017,
   "metadata": {},
   "outputs": [
    {
     "name": "stderr",
     "output_type": "stream",
     "text": [
      "C:\\Users\\Natalie Kim\\Anaconda3\\lib\\site-packages\\ipykernel_launcher.py:1: SettingWithCopyWarning: \n",
      "A value is trying to be set on a copy of a slice from a DataFrame.\n",
      "Try using .loc[row_indexer,col_indexer] = value instead\n",
      "\n",
      "See the caveats in the documentation: http://pandas.pydata.org/pandas-docs/stable/indexing.html#indexing-view-versus-copy\n",
      "  \"\"\"Entry point for launching an IPython kernel.\n"
     ]
    }
   ],
   "source": [
    "# add new converted date into dataframe\n",
    "sub_df['CONVERTED_DATE'] = converted_date"
   ]
  },
  {
   "cell_type": "code",
   "execution_count": 1019,
   "metadata": {
    "scrolled": false
   },
   "outputs": [
    {
     "data": {
      "text/html": [
       "<div>\n",
       "<style scoped>\n",
       "    .dataframe tbody tr th:only-of-type {\n",
       "        vertical-align: middle;\n",
       "    }\n",
       "\n",
       "    .dataframe tbody tr th {\n",
       "        vertical-align: top;\n",
       "    }\n",
       "\n",
       "    .dataframe thead th {\n",
       "        text-align: right;\n",
       "    }\n",
       "</style>\n",
       "<table border=\"1\" class=\"dataframe\">\n",
       "  <thead>\n",
       "    <tr style=\"text-align: right;\">\n",
       "      <th></th>\n",
       "      <th>ALL_CONTENT</th>\n",
       "      <th>CATEGORIES</th>\n",
       "      <th>CONTENT</th>\n",
       "      <th>DATE</th>\n",
       "      <th>TITLE</th>\n",
       "      <th>CONVERTED_DATE</th>\n",
       "    </tr>\n",
       "  </thead>\n",
       "  <tbody>\n",
       "    <tr>\n",
       "      <th>0</th>\n",
       "      <td>Apple’s Plan to Buy $75 Billion of Its Stock Fuels Spending Debate, The company said it would add to its record returns to shareholders, most likely fueling an intensifying debate over corporate spending.</td>\n",
       "      <td>Technology</td>\n",
       "      <td>The company said it would add to its record returns to shareholders, most likely fueling an intensifying debate over corporate spending.</td>\n",
       "      <td>May 1, 2019</td>\n",
       "      <td>Apple’s Plan to Buy $75 Billion of Its Stock Fuels Spending Debate</td>\n",
       "      <td>01/05/2019</td>\n",
       "    </tr>\n",
       "    <tr>\n",
       "      <th>1</th>\n",
       "      <td>Scheme to Swap Fake iPhones Adds Up to $900,000 Loss for Apple, Prosecutors Say, Two college students in Oregon are accused of tricking Apple into replacing nearly 1,500 counterfeit iPhones with genuine ones that were later sold.</td>\n",
       "      <td>Business</td>\n",
       "      <td>Two college students in Oregon are accused of tricking Apple into replacing nearly 1,500 counterfeit iPhones with genuine ones that were later sold.</td>\n",
       "      <td>April 7, 2019</td>\n",
       "      <td>Scheme to Swap Fake iPhones Adds Up to $900,000 Loss for Apple, Prosecutors Say</td>\n",
       "      <td>07/04/2019</td>\n",
       "    </tr>\n",
       "    <tr>\n",
       "      <th>3</th>\n",
       "      <td>Apple AirPods Review: Perfect Earbuds, but They Don’t Last, Sleek and convenient, Apple’s wireless earbuds are an engineering marvel. One problem: They are difficult and expensive to maintain.</td>\n",
       "      <td>Personal Tech</td>\n",
       "      <td>Sleek and convenient, Apple’s wireless earbuds are an engineering marvel. One problem: They are difficult and expensive to maintain.</td>\n",
       "      <td>April 3, 2019</td>\n",
       "      <td>Apple AirPods Review: Perfect Earbuds, but They Don’t Last</td>\n",
       "      <td>03/04/2019</td>\n",
       "    </tr>\n",
       "    <tr>\n",
       "      <th>6</th>\n",
       "      <td>Apple Unveils Video Service With Celebrity Parade but Few Details, The iPhone maker is partnering with Hollywood heavyweights and publishers to provide broad new services to its users.</td>\n",
       "      <td>Technology</td>\n",
       "      <td>The iPhone maker is partnering with Hollywood heavyweights and publishers to provide broad new services to its users.</td>\n",
       "      <td>March 26, 2019</td>\n",
       "      <td>Apple Unveils Video Service With Celebrity Parade but Few Details</td>\n",
       "      <td>26/03/2019</td>\n",
       "    </tr>\n",
       "    <tr>\n",
       "      <th>8</th>\n",
       "      <td>Apple Cracks Down on Apps That Fight iPhone Addiction, Last year, with much fanfare, the tech giant unveiled a screen-time tracker of its own. Then it quietly began purging competitors from its store.</td>\n",
       "      <td>Technology</td>\n",
       "      <td>Last year, with much fanfare, the tech giant unveiled a screen-time tracker of its own. Then it quietly began purging competitors from its store.</td>\n",
       "      <td>April 27, 2019</td>\n",
       "      <td>Apple Cracks Down on Apps That Fight iPhone Addiction</td>\n",
       "      <td>27/04/2019</td>\n",
       "    </tr>\n",
       "  </tbody>\n",
       "</table>\n",
       "</div>"
      ],
      "text/plain": [
       "                                                                                                                                                                                                                             ALL_CONTENT  \\\n",
       "0  Apple’s Plan to Buy $75 Billion of Its Stock Fuels Spending Debate, The company said it would add to its record returns to shareholders, most likely fueling an intensifying debate over corporate spending.                            \n",
       "1  Scheme to Swap Fake iPhones Adds Up to $900,000 Loss for Apple, Prosecutors Say, Two college students in Oregon are accused of tricking Apple into replacing nearly 1,500 counterfeit iPhones with genuine ones that were later sold.   \n",
       "3  Apple AirPods Review: Perfect Earbuds, but They Don’t Last, Sleek and convenient, Apple’s wireless earbuds are an engineering marvel. One problem: They are difficult and expensive to maintain.                                        \n",
       "6  Apple Unveils Video Service With Celebrity Parade but Few Details, The iPhone maker is partnering with Hollywood heavyweights and publishers to provide broad new services to its users.                                                \n",
       "8  Apple Cracks Down on Apps That Fight iPhone Addiction, Last year, with much fanfare, the tech giant unveiled a screen-time tracker of its own. Then it quietly began purging competitors from its store.                                \n",
       "\n",
       "      CATEGORIES  \\\n",
       "0  Technology      \n",
       "1  Business        \n",
       "3  Personal Tech   \n",
       "6  Technology      \n",
       "8  Technology      \n",
       "\n",
       "                                                                                                                                                CONTENT  \\\n",
       "0  The company said it would add to its record returns to shareholders, most likely fueling an intensifying debate over corporate spending.               \n",
       "1  Two college students in Oregon are accused of tricking Apple into replacing nearly 1,500 counterfeit iPhones with genuine ones that were later sold.   \n",
       "3  Sleek and convenient, Apple’s wireless earbuds are an engineering marvel. One problem: They are difficult and expensive to maintain.                   \n",
       "6  The iPhone maker is partnering with Hollywood heavyweights and publishers to provide broad new services to its users.                                  \n",
       "8  Last year, with much fanfare, the tech giant unveiled a screen-time tracker of its own. Then it quietly began purging competitors from its store.      \n",
       "\n",
       "             DATE  \\\n",
       "0  May 1, 2019      \n",
       "1  April 7, 2019    \n",
       "3  April 3, 2019    \n",
       "6  March 26, 2019   \n",
       "8  April 27, 2019   \n",
       "\n",
       "                                                                             TITLE  \\\n",
       "0  Apple’s Plan to Buy $75 Billion of Its Stock Fuels Spending Debate                \n",
       "1  Scheme to Swap Fake iPhones Adds Up to $900,000 Loss for Apple, Prosecutors Say   \n",
       "3  Apple AirPods Review: Perfect Earbuds, but They Don’t Last                        \n",
       "6  Apple Unveils Video Service With Celebrity Parade but Few Details                 \n",
       "8  Apple Cracks Down on Apps That Fight iPhone Addiction                             \n",
       "\n",
       "  CONVERTED_DATE  \n",
       "0  01/05/2019     \n",
       "1  07/04/2019     \n",
       "3  03/04/2019     \n",
       "6  26/03/2019     \n",
       "8  27/04/2019     "
      ]
     },
     "execution_count": 1019,
     "metadata": {},
     "output_type": "execute_result"
    }
   ],
   "source": [
    "save_as_csv(sub_df,'cleaned_final') #for backup\n",
    "sub_df.head()"
   ]
  },
  {
   "cell_type": "code",
   "execution_count": 19,
   "metadata": {},
   "outputs": [
    {
     "name": "stdout",
     "output_type": "stream",
     "text": [
      "C:\\Users\\Natalie Kim\\Documents\\Python Scripts\n"
     ]
    },
    {
     "data": {
      "text/html": [
       "<div>\n",
       "<style scoped>\n",
       "    .dataframe tbody tr th:only-of-type {\n",
       "        vertical-align: middle;\n",
       "    }\n",
       "\n",
       "    .dataframe tbody tr th {\n",
       "        vertical-align: top;\n",
       "    }\n",
       "\n",
       "    .dataframe thead th {\n",
       "        text-align: right;\n",
       "    }\n",
       "</style>\n",
       "<table border=\"1\" class=\"dataframe\">\n",
       "  <thead>\n",
       "    <tr style=\"text-align: right;\">\n",
       "      <th></th>\n",
       "      <th>ALL_CONTENT</th>\n",
       "      <th>CATEGORIES</th>\n",
       "      <th>CONTENT</th>\n",
       "      <th>DATE</th>\n",
       "      <th>TITLE</th>\n",
       "    </tr>\n",
       "  </thead>\n",
       "  <tbody>\n",
       "    <tr>\n",
       "      <th>0</th>\n",
       "      <td>Apple’s Plan to Buy $75 Billion of Its Stock Fuels Spending Debate, The company said it would add to its record returns to shareholders, most likely fueling an intensifying debate over corporate spending.</td>\n",
       "      <td>Technology</td>\n",
       "      <td>The company said it would add to its record returns to shareholders, most likely fueling an intensifying debate over corporate spending.</td>\n",
       "      <td>2019-05-01</td>\n",
       "      <td>Apple’s Plan to Buy $75 Billion of Its Stock Fuels Spending Debate</td>\n",
       "    </tr>\n",
       "    <tr>\n",
       "      <th>1</th>\n",
       "      <td>Scheme to Swap Fake iPhones Adds Up to $900,000 Loss for Apple, Prosecutors Say, Two college students in Oregon are accused of tricking Apple into replacing nearly 1,500 counterfeit iPhones with genuine ones that were later sold.</td>\n",
       "      <td>Business</td>\n",
       "      <td>Two college students in Oregon are accused of tricking Apple into replacing nearly 1,500 counterfeit iPhones with genuine ones that were later sold.</td>\n",
       "      <td>2019-04-07</td>\n",
       "      <td>Scheme to Swap Fake iPhones Adds Up to $900,000 Loss for Apple, Prosecutors Say</td>\n",
       "    </tr>\n",
       "    <tr>\n",
       "      <th>2</th>\n",
       "      <td>Apple AirPods Review: Perfect Earbuds, but They Don’t Last, Sleek and convenient, Apple’s wireless earbuds are an engineering marvel. One problem: They are difficult and expensive to maintain.</td>\n",
       "      <td>Personal Tech</td>\n",
       "      <td>Sleek and convenient, Apple’s wireless earbuds are an engineering marvel. One problem: They are difficult and expensive to maintain.</td>\n",
       "      <td>2019-04-03</td>\n",
       "      <td>Apple AirPods Review: Perfect Earbuds, but They Don’t Last</td>\n",
       "    </tr>\n",
       "    <tr>\n",
       "      <th>3</th>\n",
       "      <td>Apple Unveils Video Service With Celebrity Parade but Few Details, The iPhone maker is partnering with Hollywood heavyweights and publishers to provide broad new services to its users.</td>\n",
       "      <td>Technology</td>\n",
       "      <td>The iPhone maker is partnering with Hollywood heavyweights and publishers to provide broad new services to its users.</td>\n",
       "      <td>2019-03-26</td>\n",
       "      <td>Apple Unveils Video Service With Celebrity Parade but Few Details</td>\n",
       "    </tr>\n",
       "    <tr>\n",
       "      <th>4</th>\n",
       "      <td>Apple Cracks Down on Apps That Fight iPhone Addiction, Last year, with much fanfare, the tech giant unveiled a screen-time tracker of its own. Then it quietly began purging competitors from its store.</td>\n",
       "      <td>Technology</td>\n",
       "      <td>Last year, with much fanfare, the tech giant unveiled a screen-time tracker of its own. Then it quietly began purging competitors from its store.</td>\n",
       "      <td>2019-04-27</td>\n",
       "      <td>Apple Cracks Down on Apps That Fight iPhone Addiction</td>\n",
       "    </tr>\n",
       "  </tbody>\n",
       "</table>\n",
       "</div>"
      ],
      "text/plain": [
       "                                                                                                                                                                                                                             ALL_CONTENT  \\\n",
       "0  Apple’s Plan to Buy $75 Billion of Its Stock Fuels Spending Debate, The company said it would add to its record returns to shareholders, most likely fueling an intensifying debate over corporate spending.                            \n",
       "1  Scheme to Swap Fake iPhones Adds Up to $900,000 Loss for Apple, Prosecutors Say, Two college students in Oregon are accused of tricking Apple into replacing nearly 1,500 counterfeit iPhones with genuine ones that were later sold.   \n",
       "2  Apple AirPods Review: Perfect Earbuds, but They Don’t Last, Sleek and convenient, Apple’s wireless earbuds are an engineering marvel. One problem: They are difficult and expensive to maintain.                                        \n",
       "3  Apple Unveils Video Service With Celebrity Parade but Few Details, The iPhone maker is partnering with Hollywood heavyweights and publishers to provide broad new services to its users.                                                \n",
       "4  Apple Cracks Down on Apps That Fight iPhone Addiction, Last year, with much fanfare, the tech giant unveiled a screen-time tracker of its own. Then it quietly began purging competitors from its store.                                \n",
       "\n",
       "      CATEGORIES  \\\n",
       "0  Technology      \n",
       "1  Business        \n",
       "2  Personal Tech   \n",
       "3  Technology      \n",
       "4  Technology      \n",
       "\n",
       "                                                                                                                                                CONTENT  \\\n",
       "0  The company said it would add to its record returns to shareholders, most likely fueling an intensifying debate over corporate spending.               \n",
       "1  Two college students in Oregon are accused of tricking Apple into replacing nearly 1,500 counterfeit iPhones with genuine ones that were later sold.   \n",
       "2  Sleek and convenient, Apple’s wireless earbuds are an engineering marvel. One problem: They are difficult and expensive to maintain.                   \n",
       "3  The iPhone maker is partnering with Hollywood heavyweights and publishers to provide broad new services to its users.                                  \n",
       "4  Last year, with much fanfare, the tech giant unveiled a screen-time tracker of its own. Then it quietly began purging competitors from its store.      \n",
       "\n",
       "         DATE  \\\n",
       "0  2019-05-01   \n",
       "1  2019-04-07   \n",
       "2  2019-04-03   \n",
       "3  2019-03-26   \n",
       "4  2019-04-27   \n",
       "\n",
       "                                                                             TITLE  \n",
       "0  Apple’s Plan to Buy $75 Billion of Its Stock Fuels Spending Debate               \n",
       "1  Scheme to Swap Fake iPhones Adds Up to $900,000 Loss for Apple, Prosecutors Say  \n",
       "2  Apple AirPods Review: Perfect Earbuds, but They Don’t Last                       \n",
       "3  Apple Unveils Video Service With Celebrity Parade but Few Details                \n",
       "4  Apple Cracks Down on Apps That Fight iPhone Addiction                            "
      ]
     },
     "execution_count": 19,
     "metadata": {},
     "output_type": "execute_result"
    }
   ],
   "source": [
    "# to convert back to pd from txt file\n",
    "import pandas as pd\n",
    "import datetime\n",
    "\n",
    "%cd C:\\Users\\Natalie Kim\\Documents\\Python Scripts\n",
    "new_df = pd.read_csv('cleaned_final.txt',sep='\\t')\n",
    "new_df.drop(['Unnamed: 0'],axis=1,inplace = True)\n",
    "converted_date =[]\n",
    "new_df['DATE'] = new_df['CONVERTED_DATE']\n",
    "for date in new_df['DATE']:\n",
    "    dateTime = datetime.datetime.strptime(date, '%d/%m/%Y')\n",
    "    converted_date.append(dateTime.strftime('%Y-%m-%d'))\n",
    "new_df['DATE'] = converted_date\n",
    "new_df.drop(['CONVERTED_DATE'],axis=1,inplace = True)\n",
    "new_df.head()"
   ]
  },
  {
   "cell_type": "markdown",
   "metadata": {},
   "source": [
    "### 2. Stock price history from Yahoo Finance"
   ]
  },
  {
   "cell_type": "code",
   "execution_count": 1,
   "metadata": {},
   "outputs": [],
   "source": [
    "import requests\n",
    "from bs4 import BeautifulSoup\n",
    "import re\n",
    "import pandas as pd\n",
    "import matplotlib.pyplot as plt\n",
    "import seaborn as sns\n",
    "import numpy as np"
   ]
  },
  {
   "cell_type": "markdown",
   "metadata": {},
   "source": [
    "#### 2.1. Obtain stock price data from Yahoo Finance:"
   ]
  },
  {
   "cell_type": "markdown",
   "metadata": {},
   "source": [
    "Obtain Apple stock (AAPL)'s daily Open,High,Low,Close price,Volume data from period 2010-01-01 to 2019-04-30. Control web browser by Selenium and collect data by Beautifulsoup."
   ]
  },
  {
   "cell_type": "code",
   "execution_count": 7,
   "metadata": {},
   "outputs": [],
   "source": [
    "page = 'https://finance.yahoo.com/quote/AAPL/history?period1=1262275200&period2=1556640000&interval=1d&filter=history&frequency=1d'\n",
    "browser.get(page)\n",
    "headers = {'User-Agent':'Mozilla/5.0 (Windows; U; Windows NT 5.1; en-US) AppleWebKit/534.14 (KHTML, like Gecko) Chrome/9.0.600.0 Safari/534.14'}\n",
    "r = requests.get(page,headers=headers)"
   ]
  },
  {
   "cell_type": "code",
   "execution_count": 1106,
   "metadata": {},
   "outputs": [],
   "source": [
    "# scroll down the page iteratively with a delay\n",
    "for _ in range(0, 25):\n",
    "    browser.execute_script(\"window.scrollTo(0, 150000);\")\n",
    "    time.sleep(5)"
   ]
  },
  {
   "cell_type": "code",
   "execution_count": 1107,
   "metadata": {},
   "outputs": [],
   "source": [
    "r = browser.page_source"
   ]
  },
  {
   "cell_type": "code",
   "execution_count": 1172,
   "metadata": {},
   "outputs": [],
   "source": [
    "soup = BeautifulSoup(r)"
   ]
  },
  {
   "cell_type": "code",
   "execution_count": 1185,
   "metadata": {},
   "outputs": [],
   "source": [
    "# Extract the relevant information as text\n",
    "# Find the element on the webpage\n",
    "main_content = soup.find('table', attrs = {'data-test': 'historical-prices'})\n",
    "content = main_content.find_all('tr')\n",
    "content = [x.getText(separator=u'/') for x in content]"
   ]
  },
  {
   "cell_type": "code",
   "execution_count": 1233,
   "metadata": {
    "scrolled": true
   },
   "outputs": [
    {
     "data": {
      "text/html": [
       "<div>\n",
       "<style scoped>\n",
       "    .dataframe tbody tr th:only-of-type {\n",
       "        vertical-align: middle;\n",
       "    }\n",
       "\n",
       "    .dataframe tbody tr th {\n",
       "        vertical-align: top;\n",
       "    }\n",
       "\n",
       "    .dataframe thead th {\n",
       "        text-align: right;\n",
       "    }\n",
       "</style>\n",
       "<table border=\"1\" class=\"dataframe\">\n",
       "  <thead>\n",
       "    <tr style=\"text-align: right;\">\n",
       "      <th></th>\n",
       "      <th>Date</th>\n",
       "      <th>Open</th>\n",
       "      <th>High</th>\n",
       "      <th>Low</th>\n",
       "      <th>Close*</th>\n",
       "      <th>Adj Close**</th>\n",
       "      <th>Volume</th>\n",
       "    </tr>\n",
       "  </thead>\n",
       "  <tbody>\n",
       "    <tr>\n",
       "      <th>0</th>\n",
       "      <td>Apr 30, 2019</td>\n",
       "      <td>203.06</td>\n",
       "      <td>203.40</td>\n",
       "      <td>199.11</td>\n",
       "      <td>200.67</td>\n",
       "      <td>199.90</td>\n",
       "      <td>46,534,900</td>\n",
       "    </tr>\n",
       "    <tr>\n",
       "      <th>1</th>\n",
       "      <td>Apr 29, 2019</td>\n",
       "      <td>204.40</td>\n",
       "      <td>205.97</td>\n",
       "      <td>203.86</td>\n",
       "      <td>204.61</td>\n",
       "      <td>203.83</td>\n",
       "      <td>22,204,700</td>\n",
       "    </tr>\n",
       "    <tr>\n",
       "      <th>2</th>\n",
       "      <td>Apr 26, 2019</td>\n",
       "      <td>204.90</td>\n",
       "      <td>205.00</td>\n",
       "      <td>202.12</td>\n",
       "      <td>204.30</td>\n",
       "      <td>203.52</td>\n",
       "      <td>18,649,100</td>\n",
       "    </tr>\n",
       "    <tr>\n",
       "      <th>3</th>\n",
       "      <td>Apr 25, 2019</td>\n",
       "      <td>206.83</td>\n",
       "      <td>207.76</td>\n",
       "      <td>205.12</td>\n",
       "      <td>205.28</td>\n",
       "      <td>204.49</td>\n",
       "      <td>18,543,200</td>\n",
       "    </tr>\n",
       "    <tr>\n",
       "      <th>4</th>\n",
       "      <td>Apr 24, 2019</td>\n",
       "      <td>207.36</td>\n",
       "      <td>208.48</td>\n",
       "      <td>207.05</td>\n",
       "      <td>207.16</td>\n",
       "      <td>206.37</td>\n",
       "      <td>17,540,600</td>\n",
       "    </tr>\n",
       "  </tbody>\n",
       "</table>\n",
       "</div>"
      ],
      "text/plain": [
       "           Date    Open    High     Low  Close* Adj Close**      Volume\n",
       "0  Apr 30, 2019  203.06  203.40  199.11  200.67  199.90      46,534,900\n",
       "1  Apr 29, 2019  204.40  205.97  203.86  204.61  203.83      22,204,700\n",
       "2  Apr 26, 2019  204.90  205.00  202.12  204.30  203.52      18,649,100\n",
       "3  Apr 25, 2019  206.83  207.76  205.12  205.28  204.49      18,543,200\n",
       "4  Apr 24, 2019  207.36  208.48  207.05  207.16  206.37      17,540,600"
      ]
     },
     "execution_count": 1233,
     "metadata": {},
     "output_type": "execute_result"
    }
   ],
   "source": [
    "apple_df = pd.DataFrame([each.split('/')for each in content][1:-1], columns=[each.split('/')for each in content][0])\n",
    "apple_df.head()"
   ]
  },
  {
   "cell_type": "markdown",
   "metadata": {},
   "source": [
    "#### 2.2. Data Cleansing:"
   ]
  },
  {
   "cell_type": "markdown",
   "metadata": {},
   "source": [
    "Drop null values and sort dataframe from old to recent."
   ]
  },
  {
   "cell_type": "code",
   "execution_count": 1234,
   "metadata": {},
   "outputs": [],
   "source": [
    "apple_df.dropna(how = 'any',inplace=True)"
   ]
  },
  {
   "cell_type": "code",
   "execution_count": 1238,
   "metadata": {},
   "outputs": [
    {
     "data": {
      "text/html": [
       "<div>\n",
       "<style scoped>\n",
       "    .dataframe tbody tr th:only-of-type {\n",
       "        vertical-align: middle;\n",
       "    }\n",
       "\n",
       "    .dataframe tbody tr th {\n",
       "        vertical-align: top;\n",
       "    }\n",
       "\n",
       "    .dataframe thead th {\n",
       "        text-align: right;\n",
       "    }\n",
       "</style>\n",
       "<table border=\"1\" class=\"dataframe\">\n",
       "  <thead>\n",
       "    <tr style=\"text-align: right;\">\n",
       "      <th></th>\n",
       "      <th>Date</th>\n",
       "      <th>Open</th>\n",
       "      <th>High</th>\n",
       "      <th>Low</th>\n",
       "      <th>Close*</th>\n",
       "      <th>Adj Close**</th>\n",
       "      <th>Volume</th>\n",
       "    </tr>\n",
       "  </thead>\n",
       "  <tbody>\n",
       "    <tr>\n",
       "      <th>2373</th>\n",
       "      <td>Jan 04, 2010</td>\n",
       "      <td>30.49</td>\n",
       "      <td>30.64</td>\n",
       "      <td>30.34</td>\n",
       "      <td>30.57</td>\n",
       "      <td>20.31</td>\n",
       "      <td>123,432,400</td>\n",
       "    </tr>\n",
       "    <tr>\n",
       "      <th>2372</th>\n",
       "      <td>Jan 05, 2010</td>\n",
       "      <td>30.66</td>\n",
       "      <td>30.80</td>\n",
       "      <td>30.46</td>\n",
       "      <td>30.63</td>\n",
       "      <td>20.34</td>\n",
       "      <td>150,476,200</td>\n",
       "    </tr>\n",
       "    <tr>\n",
       "      <th>2371</th>\n",
       "      <td>Jan 06, 2010</td>\n",
       "      <td>30.63</td>\n",
       "      <td>30.75</td>\n",
       "      <td>30.11</td>\n",
       "      <td>30.14</td>\n",
       "      <td>20.02</td>\n",
       "      <td>138,040,000</td>\n",
       "    </tr>\n",
       "    <tr>\n",
       "      <th>2370</th>\n",
       "      <td>Jan 07, 2010</td>\n",
       "      <td>30.25</td>\n",
       "      <td>30.29</td>\n",
       "      <td>29.86</td>\n",
       "      <td>30.08</td>\n",
       "      <td>19.98</td>\n",
       "      <td>119,282,800</td>\n",
       "    </tr>\n",
       "    <tr>\n",
       "      <th>2369</th>\n",
       "      <td>Jan 08, 2010</td>\n",
       "      <td>30.04</td>\n",
       "      <td>30.29</td>\n",
       "      <td>29.87</td>\n",
       "      <td>30.28</td>\n",
       "      <td>20.12</td>\n",
       "      <td>111,902,700</td>\n",
       "    </tr>\n",
       "  </tbody>\n",
       "</table>\n",
       "</div>"
      ],
      "text/plain": [
       "              Date   Open   High    Low Close* Adj Close**       Volume\n",
       "2373  Jan 04, 2010  30.49  30.64  30.34  30.57  20.31       123,432,400\n",
       "2372  Jan 05, 2010  30.66  30.80  30.46  30.63  20.34       150,476,200\n",
       "2371  Jan 06, 2010  30.63  30.75  30.11  30.14  20.02       138,040,000\n",
       "2370  Jan 07, 2010  30.25  30.29  29.86  30.08  19.98       119,282,800\n",
       "2369  Jan 08, 2010  30.04  30.29  29.87  30.28  20.12       111,902,700"
      ]
     },
     "execution_count": 1238,
     "metadata": {},
     "output_type": "execute_result"
    }
   ],
   "source": [
    "reversed_order = apple_df.iloc[::-1]\n",
    "reversed_order = reversed_order[1:]\n",
    "reversed_order.head()"
   ]
  },
  {
   "cell_type": "markdown",
   "metadata": {},
   "source": [
    "Adding more dimension to existing dataframe: Obtain stock return colume to gauge daily price movement."
   ]
  },
  {
   "cell_type": "code",
   "execution_count": 1244,
   "metadata": {},
   "outputs": [
    {
     "name": "stderr",
     "output_type": "stream",
     "text": [
      "C:\\Users\\Natalie Kim\\Anaconda3\\lib\\site-packages\\ipykernel_launcher.py:3: SettingWithCopyWarning: \n",
      "A value is trying to be set on a copy of a slice from a DataFrame.\n",
      "Try using .loc[row_indexer,col_indexer] = value instead\n",
      "\n",
      "See the caveats in the documentation: http://pandas.pydata.org/pandas-docs/stable/indexing.html#indexing-view-versus-copy\n",
      "  This is separate from the ipykernel package so we can avoid doing imports until\n",
      "C:\\Users\\Natalie Kim\\Anaconda3\\lib\\site-packages\\ipykernel_launcher.py:4: SettingWithCopyWarning: \n",
      "A value is trying to be set on a copy of a slice from a DataFrame.\n",
      "Try using .loc[row_indexer,col_indexer] = value instead\n",
      "\n",
      "See the caveats in the documentation: http://pandas.pydata.org/pandas-docs/stable/indexing.html#indexing-view-versus-copy\n",
      "  after removing the cwd from sys.path.\n"
     ]
    }
   ],
   "source": [
    "apple_px = reversed_order[['Date','Close*']]\n",
    "#apple_px = pd.DataFrame([float(each) for each in apple_px['Close*']],columns = ['Price Change %'])\n",
    "apple_px['Converted Px'] = [float(each) for each in apple_px['Close*']]\n",
    "apple_px['Px change %'] = apple_px['Converted Px'].pct_change(1)"
   ]
  },
  {
   "cell_type": "code",
   "execution_count": 1250,
   "metadata": {},
   "outputs": [
    {
     "data": {
      "text/html": [
       "<div>\n",
       "<style scoped>\n",
       "    .dataframe tbody tr th:only-of-type {\n",
       "        vertical-align: middle;\n",
       "    }\n",
       "\n",
       "    .dataframe tbody tr th {\n",
       "        vertical-align: top;\n",
       "    }\n",
       "\n",
       "    .dataframe thead th {\n",
       "        text-align: right;\n",
       "    }\n",
       "</style>\n",
       "<table border=\"1\" class=\"dataframe\">\n",
       "  <thead>\n",
       "    <tr style=\"text-align: right;\">\n",
       "      <th></th>\n",
       "      <th>Date</th>\n",
       "      <th>Open</th>\n",
       "      <th>High</th>\n",
       "      <th>Low</th>\n",
       "      <th>Close*</th>\n",
       "      <th>Adj Close**</th>\n",
       "      <th>Volume</th>\n",
       "      <th>Px change %</th>\n",
       "    </tr>\n",
       "  </thead>\n",
       "  <tbody>\n",
       "    <tr>\n",
       "      <th>0</th>\n",
       "      <td>Jan 04, 2010</td>\n",
       "      <td>30.49</td>\n",
       "      <td>30.64</td>\n",
       "      <td>30.34</td>\n",
       "      <td>30.57</td>\n",
       "      <td>20.31</td>\n",
       "      <td>123,432,400</td>\n",
       "      <td>NaN</td>\n",
       "    </tr>\n",
       "    <tr>\n",
       "      <th>1</th>\n",
       "      <td>Jan 05, 2010</td>\n",
       "      <td>30.66</td>\n",
       "      <td>30.80</td>\n",
       "      <td>30.46</td>\n",
       "      <td>30.63</td>\n",
       "      <td>20.34</td>\n",
       "      <td>150,476,200</td>\n",
       "      <td>0.001963</td>\n",
       "    </tr>\n",
       "    <tr>\n",
       "      <th>2</th>\n",
       "      <td>Jan 06, 2010</td>\n",
       "      <td>30.63</td>\n",
       "      <td>30.75</td>\n",
       "      <td>30.11</td>\n",
       "      <td>30.14</td>\n",
       "      <td>20.02</td>\n",
       "      <td>138,040,000</td>\n",
       "      <td>-0.015997</td>\n",
       "    </tr>\n",
       "    <tr>\n",
       "      <th>3</th>\n",
       "      <td>Jan 07, 2010</td>\n",
       "      <td>30.25</td>\n",
       "      <td>30.29</td>\n",
       "      <td>29.86</td>\n",
       "      <td>30.08</td>\n",
       "      <td>19.98</td>\n",
       "      <td>119,282,800</td>\n",
       "      <td>-0.001991</td>\n",
       "    </tr>\n",
       "    <tr>\n",
       "      <th>4</th>\n",
       "      <td>Jan 08, 2010</td>\n",
       "      <td>30.04</td>\n",
       "      <td>30.29</td>\n",
       "      <td>29.87</td>\n",
       "      <td>30.28</td>\n",
       "      <td>20.12</td>\n",
       "      <td>111,902,700</td>\n",
       "      <td>0.006649</td>\n",
       "    </tr>\n",
       "  </tbody>\n",
       "</table>\n",
       "</div>"
      ],
      "text/plain": [
       "           Date   Open   High    Low Close* Adj Close**       Volume  \\\n",
       "0  Jan 04, 2010  30.49  30.64  30.34  30.57  20.31       123,432,400   \n",
       "1  Jan 05, 2010  30.66  30.80  30.46  30.63  20.34       150,476,200   \n",
       "2  Jan 06, 2010  30.63  30.75  30.11  30.14  20.02       138,040,000   \n",
       "3  Jan 07, 2010  30.25  30.29  29.86  30.08  19.98       119,282,800   \n",
       "4  Jan 08, 2010  30.04  30.29  29.87  30.28  20.12       111,902,700   \n",
       "\n",
       "   Px change %  \n",
       "0 NaN           \n",
       "1  0.001963     \n",
       "2 -0.015997     \n",
       "3 -0.001991     \n",
       "4  0.006649     "
      ]
     },
     "execution_count": 1250,
     "metadata": {},
     "output_type": "execute_result"
    }
   ],
   "source": [
    "merged_df = reversed_order.merge(apple_px[['Date','Px change %']], on='Date')\n",
    "merged_df.head()"
   ]
  },
  {
   "cell_type": "markdown",
   "metadata": {},
   "source": [
    "Convert Date format to match NY Time Date format for consistency."
   ]
  },
  {
   "cell_type": "code",
   "execution_count": 1251,
   "metadata": {},
   "outputs": [],
   "source": [
    "converted_date = []\n",
    "for date in merged_df['Date']:\n",
    "    dateTime = datetime.datetime.strptime(date, \"%b %d, %Y\")\n",
    "    converted_date.append(dateTime.strftime('%d/%m/%Y'))"
   ]
  },
  {
   "cell_type": "code",
   "execution_count": 1253,
   "metadata": {},
   "outputs": [],
   "source": [
    "merged_df['Date'] = converted_date"
   ]
  },
  {
   "cell_type": "code",
   "execution_count": 1255,
   "metadata": {},
   "outputs": [],
   "source": [
    "save_as_csv(merged_df,'Yahoo_data') #for backup"
   ]
  },
  {
   "cell_type": "markdown",
   "metadata": {},
   "source": [
    "#### 2.3. Merge NYT and Price dataframe:"
   ]
  },
  {
   "cell_type": "markdown",
   "metadata": {},
   "source": [
    "This dataframe will be used in fundamental analysis. In fundamental analysis, text analytics is performed to see if positive or negative news have impacted stock price direction."
   ]
  },
  {
   "cell_type": "code",
   "execution_count": 1264,
   "metadata": {},
   "outputs": [
    {
     "data": {
      "text/html": [
       "<div>\n",
       "<style scoped>\n",
       "    .dataframe tbody tr th:only-of-type {\n",
       "        vertical-align: middle;\n",
       "    }\n",
       "\n",
       "    .dataframe tbody tr th {\n",
       "        vertical-align: top;\n",
       "    }\n",
       "\n",
       "    .dataframe thead th {\n",
       "        text-align: right;\n",
       "    }\n",
       "</style>\n",
       "<table border=\"1\" class=\"dataframe\">\n",
       "  <thead>\n",
       "    <tr style=\"text-align: right;\">\n",
       "      <th></th>\n",
       "      <th>ALL_CONTENT</th>\n",
       "      <th>CATEGORIES</th>\n",
       "      <th>CONTENT</th>\n",
       "      <th>DATE</th>\n",
       "      <th>TITLE</th>\n",
       "      <th>CONVERTED_DATE</th>\n",
       "      <th>Date</th>\n",
       "      <th>Open</th>\n",
       "      <th>High</th>\n",
       "      <th>Low</th>\n",
       "      <th>Close*</th>\n",
       "      <th>Adj Close**</th>\n",
       "      <th>Volume</th>\n",
       "      <th>Px change %</th>\n",
       "      <th>Direction</th>\n",
       "    </tr>\n",
       "  </thead>\n",
       "  <tbody>\n",
       "    <tr>\n",
       "      <th>0</th>\n",
       "      <td>Apple AirPods Review: Perfect Earbuds, but They Don’t Last, Sleek and convenient, Apple’s wireless earbuds are an engineering marvel. One problem: They are difficult and expensive to maintain.</td>\n",
       "      <td>Personal Tech</td>\n",
       "      <td>Sleek and convenient, Apple’s wireless earbuds are an engineering marvel. One problem: They are difficult and expensive to maintain.</td>\n",
       "      <td>April 3, 2019</td>\n",
       "      <td>Apple AirPods Review: Perfect Earbuds, but They Don’t Last</td>\n",
       "      <td>03/04/2019</td>\n",
       "      <td>03/04/2019</td>\n",
       "      <td>193.25</td>\n",
       "      <td>196.50</td>\n",
       "      <td>193.15</td>\n",
       "      <td>195.35</td>\n",
       "      <td>194.60</td>\n",
       "      <td>23,271,800</td>\n",
       "      <td>0.006855</td>\n",
       "      <td>1</td>\n",
       "    </tr>\n",
       "    <tr>\n",
       "      <th>1</th>\n",
       "      <td>Apple Unveils Video Service With Celebrity Parade but Few Details, The iPhone maker is partnering with Hollywood heavyweights and publishers to provide broad new services to its users.</td>\n",
       "      <td>Technology</td>\n",
       "      <td>The iPhone maker is partnering with Hollywood heavyweights and publishers to provide broad new services to its users.</td>\n",
       "      <td>March 26, 2019</td>\n",
       "      <td>Apple Unveils Video Service With Celebrity Parade but Few Details</td>\n",
       "      <td>26/03/2019</td>\n",
       "      <td>26/03/2019</td>\n",
       "      <td>191.66</td>\n",
       "      <td>192.88</td>\n",
       "      <td>184.58</td>\n",
       "      <td>186.79</td>\n",
       "      <td>186.07</td>\n",
       "      <td>49,800,500</td>\n",
       "      <td>-0.010332</td>\n",
       "      <td>0</td>\n",
       "    </tr>\n",
       "    <tr>\n",
       "      <th>2</th>\n",
       "      <td>Samsung Predicts Disappointing Results as Chip Prices Fall, Weaker demand for smartphones in China and elsewhere has put increasing pressure on the gadget industry.</td>\n",
       "      <td>Business</td>\n",
       "      <td>Weaker demand for smartphones in China and elsewhere has put increasing pressure on the gadget industry.</td>\n",
       "      <td>March 26, 2019</td>\n",
       "      <td>Samsung Predicts Disappointing Results as Chip Prices Fall</td>\n",
       "      <td>26/03/2019</td>\n",
       "      <td>26/03/2019</td>\n",
       "      <td>191.66</td>\n",
       "      <td>192.88</td>\n",
       "      <td>184.58</td>\n",
       "      <td>186.79</td>\n",
       "      <td>186.07</td>\n",
       "      <td>49,800,500</td>\n",
       "      <td>-0.010332</td>\n",
       "      <td>0</td>\n",
       "    </tr>\n",
       "    <tr>\n",
       "      <th>3</th>\n",
       "      <td>Apple and Qualcomm Settle All Disputes Worldwide, Apple and Qualcomm said they had agreed to dismiss all litigation between them worldwide.</td>\n",
       "      <td>Technology</td>\n",
       "      <td>Apple and Qualcomm said they had agreed to dismiss all litigation between them worldwide.</td>\n",
       "      <td>April 17, 2019</td>\n",
       "      <td>Apple and Qualcomm Settle All Disputes Worldwide</td>\n",
       "      <td>17/04/2019</td>\n",
       "      <td>17/04/2019</td>\n",
       "      <td>199.54</td>\n",
       "      <td>203.38</td>\n",
       "      <td>198.61</td>\n",
       "      <td>203.13</td>\n",
       "      <td>202.35</td>\n",
       "      <td>28,906,800</td>\n",
       "      <td>0.019473</td>\n",
       "      <td>1</td>\n",
       "    </tr>\n",
       "    <tr>\n",
       "      <th>4</th>\n",
       "      <td>Organizing Your Unwieldy Photo Collection Is Easier Than You Think, Here is the trick: Let your smartphone do the work.</td>\n",
       "      <td>Personal Tech</td>\n",
       "      <td>Here is the trick: Let your smartphone do the work.</td>\n",
       "      <td>April 10, 2019</td>\n",
       "      <td>Organizing Your Unwieldy Photo Collection Is Easier Than You Think</td>\n",
       "      <td>10/04/2019</td>\n",
       "      <td>10/04/2019</td>\n",
       "      <td>198.68</td>\n",
       "      <td>200.74</td>\n",
       "      <td>198.18</td>\n",
       "      <td>200.62</td>\n",
       "      <td>199.85</td>\n",
       "      <td>21,695,300</td>\n",
       "      <td>0.005614</td>\n",
       "      <td>1</td>\n",
       "    </tr>\n",
       "  </tbody>\n",
       "</table>\n",
       "</div>"
      ],
      "text/plain": [
       "                                                                                                                                                                                        ALL_CONTENT  \\\n",
       "0  Apple AirPods Review: Perfect Earbuds, but They Don’t Last, Sleek and convenient, Apple’s wireless earbuds are an engineering marvel. One problem: They are difficult and expensive to maintain.   \n",
       "1  Apple Unveils Video Service With Celebrity Parade but Few Details, The iPhone maker is partnering with Hollywood heavyweights and publishers to provide broad new services to its users.           \n",
       "2  Samsung Predicts Disappointing Results as Chip Prices Fall, Weaker demand for smartphones in China and elsewhere has put increasing pressure on the gadget industry.                               \n",
       "3  Apple and Qualcomm Settle All Disputes Worldwide, Apple and Qualcomm said they had agreed to dismiss all litigation between them worldwide.                                                        \n",
       "4  Organizing Your Unwieldy Photo Collection Is Easier Than You Think, Here is the trick: Let your smartphone do the work.                                                                            \n",
       "\n",
       "      CATEGORIES  \\\n",
       "0  Personal Tech   \n",
       "1  Technology      \n",
       "2  Business        \n",
       "3  Technology      \n",
       "4  Personal Tech   \n",
       "\n",
       "                                                                                                                                CONTENT  \\\n",
       "0  Sleek and convenient, Apple’s wireless earbuds are an engineering marvel. One problem: They are difficult and expensive to maintain.   \n",
       "1  The iPhone maker is partnering with Hollywood heavyweights and publishers to provide broad new services to its users.                  \n",
       "2  Weaker demand for smartphones in China and elsewhere has put increasing pressure on the gadget industry.                               \n",
       "3  Apple and Qualcomm said they had agreed to dismiss all litigation between them worldwide.                                              \n",
       "4  Here is the trick: Let your smartphone do the work.                                                                                    \n",
       "\n",
       "             DATE  \\\n",
       "0  April 3, 2019    \n",
       "1  March 26, 2019   \n",
       "2  March 26, 2019   \n",
       "3  April 17, 2019   \n",
       "4  April 10, 2019   \n",
       "\n",
       "                                                                TITLE  \\\n",
       "0  Apple AirPods Review: Perfect Earbuds, but They Don’t Last           \n",
       "1  Apple Unveils Video Service With Celebrity Parade but Few Details    \n",
       "2  Samsung Predicts Disappointing Results as Chip Prices Fall           \n",
       "3  Apple and Qualcomm Settle All Disputes Worldwide                     \n",
       "4  Organizing Your Unwieldy Photo Collection Is Easier Than You Think   \n",
       "\n",
       "  CONVERTED_DATE        Date    Open    High     Low  Close* Adj Close**  \\\n",
       "0  03/04/2019     03/04/2019  193.25  196.50  193.15  195.35  194.60       \n",
       "1  26/03/2019     26/03/2019  191.66  192.88  184.58  186.79  186.07       \n",
       "2  26/03/2019     26/03/2019  191.66  192.88  184.58  186.79  186.07       \n",
       "3  17/04/2019     17/04/2019  199.54  203.38  198.61  203.13  202.35       \n",
       "4  10/04/2019     10/04/2019  198.68  200.74  198.18  200.62  199.85       \n",
       "\n",
       "       Volume  Px change %  Direction  \n",
       "0  23,271,800  0.006855     1          \n",
       "1  49,800,500 -0.010332     0          \n",
       "2  49,800,500 -0.010332     0          \n",
       "3  28,906,800  0.019473     1          \n",
       "4  21,695,300  0.005614     1          "
      ]
     },
     "execution_count": 1264,
     "metadata": {},
     "output_type": "execute_result"
    }
   ],
   "source": [
    "news_and_px = pd.merge(sub_df, merged_df,left_on='CONVERTED_DATE',right_on='Date',how='inner')\n",
    "direction = []\n",
    "for each in news_and_px['Px change %']:\n",
    "    if each >= 0:\n",
    "        direction.append(1) #price move up or stay =1\n",
    "    else:\n",
    "        direction.append(0) #price move down =0\n",
    "news_and_px['Direction'] = direction\n",
    "news_and_px.head()"
   ]
  },
  {
   "cell_type": "code",
   "execution_count": 1265,
   "metadata": {},
   "outputs": [],
   "source": [
    "save_as_csv(news_and_px,'Fundamental Analysis') #backup"
   ]
  },
  {
   "cell_type": "code",
   "execution_count": null,
   "metadata": {},
   "outputs": [],
   "source": []
  }
 ],
 "metadata": {
  "kernelspec": {
   "display_name": "Python 3",
   "language": "python",
   "name": "python3"
  },
  "language_info": {
   "codemirror_mode": {
    "name": "ipython",
    "version": 3
   },
   "file_extension": ".py",
   "mimetype": "text/x-python",
   "name": "python",
   "nbconvert_exporter": "python",
   "pygments_lexer": "ipython3",
   "version": "3.7.1"
  }
 },
 "nbformat": 4,
 "nbformat_minor": 2
}
